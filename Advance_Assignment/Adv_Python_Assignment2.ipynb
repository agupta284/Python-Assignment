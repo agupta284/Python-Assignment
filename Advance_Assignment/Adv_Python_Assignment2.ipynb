{
 "cells": [
  {
   "cell_type": "code",
   "execution_count": 1,
   "metadata": {},
   "outputs": [
    {
     "name": "stdout",
     "output_type": "stream",
     "text": [
      "Enter the number : 8\n"
     ]
    },
    {
     "data": {
      "text/plain": [
       "141"
      ]
     },
     "execution_count": 1,
     "metadata": {},
     "output_type": "execute_result"
    }
   ],
   "source": [
    "def pentagonal(n):\n",
    "    \n",
    "    return (5 * n * n - 5 * n + 2) // 2\n",
    "\n",
    "n = int(input('Enter the number : '))\n",
    "pentagonal(n)"
   ]
  },
  {
   "cell_type": "code",
   "execution_count": 4,
   "metadata": {},
   "outputs": [
    {
     "data": {
      "text/plain": [
       "'1lpp0'"
      ]
     },
     "execution_count": 4,
     "metadata": {},
     "output_type": "execute_result"
    }
   ],
   "source": [
    "dict1 = {'a':0,'e':1,'i':2,'o':2,'u':3}\n",
    "\n",
    "def encrypt(word):\n",
    "    dict1 = {'a':0,'e':1,'i':2,'o':2,'u':3}\n",
    "    new_str = word[::-1]\n",
    "    f_str = ''\n",
    "    for char in new_str:\n",
    "        if char in dict1.keys():\n",
    "            f_str += str(dict1[char])\n",
    "        else:\n",
    "            f_str += char\n",
    "    return f_str\n",
    "\n",
    "encrypt('apple')"
   ]
  },
  {
   "cell_type": "code",
   "execution_count": 24,
   "metadata": {},
   "outputs": [
    {
     "data": {
      "text/plain": [
       "True"
      ]
     },
     "execution_count": 24,
     "metadata": {},
     "output_type": "execute_result"
    }
   ],
   "source": [
    "import datetime as dt\n",
    "def has_friday_13(mon,year):\n",
    "    date = dt.date(year,mon,13)\n",
    "    day = date.strftime('%A')\n",
    "    if day == 'Friday':\n",
    "        return True\n",
    "    else:\n",
    "        return False\n",
    "\n",
    "    \n",
    "has_friday_13(10,2017)"
   ]
  },
  {
   "cell_type": "code",
   "execution_count": 32,
   "metadata": {},
   "outputs": [
    {
     "data": {
      "application/javascript": [
       "\n",
       "        if (window._pyforest_update_imports_cell) { window._pyforest_update_imports_cell('import re\\nimport datetime as dt'); }\n",
       "    "
      ],
      "text/plain": [
       "<IPython.core.display.Javascript object>"
      ]
     },
     "metadata": {},
     "output_type": "display_data"
    },
    {
     "data": {
      "text/plain": [
       "2"
      ]
     },
     "execution_count": 32,
     "metadata": {},
     "output_type": "execute_result"
    }
   ],
   "source": [
    "lst = [\"bad cookie\", \"good cookie\", \"bad cookie\", \"good cookie\", \"good cookie\"]\n",
    "pattern = r\"(?<!good) cookie\"\n",
    "\n",
    "len(re.findall(pattern, \", \".join(lst))) \n"
   ]
  },
  {
   "cell_type": "code",
   "execution_count": 37,
   "metadata": {},
   "outputs": [
    {
     "name": "stdout",
     "output_type": "stream",
     "text": [
      "['cows', 'pig']\n"
     ]
    }
   ],
   "source": [
    "def pluralize(list1):\n",
    "    new_list = []\n",
    "    for element in set(list1):\n",
    "        if list1.count(element)>1:\n",
    "            new_list.append(element+'s')\n",
    "        else:\n",
    "            new_list.append(element)\n",
    "    return new_list\n",
    "\n",
    "res = pluralize(list1)\n",
    "print(res)"
   ]
  },
  {
   "cell_type": "code",
   "execution_count": 34,
   "metadata": {},
   "outputs": [
    {
     "data": {
      "text/plain": [
       "3"
      ]
     },
     "execution_count": 34,
     "metadata": {},
     "output_type": "execute_result"
    }
   ],
   "source": [
    "list1 = [\"cow\", \"pig\", \"cow\", \"cow\"]\n",
    "list1.count('cow')"
   ]
  }
 ],
 "metadata": {
  "kernelspec": {
   "display_name": "Python 3",
   "language": "python",
   "name": "python3"
  },
  "language_info": {
   "codemirror_mode": {
    "name": "ipython",
    "version": 3
   },
   "file_extension": ".py",
   "mimetype": "text/x-python",
   "name": "python",
   "nbconvert_exporter": "python",
   "pygments_lexer": "ipython3",
   "version": "3.8.5"
  }
 },
 "nbformat": 4,
 "nbformat_minor": 4
}
