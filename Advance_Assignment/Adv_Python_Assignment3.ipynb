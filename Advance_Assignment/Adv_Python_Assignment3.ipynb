{
 "cells": [
  {
   "cell_type": "code",
   "execution_count": 7,
   "metadata": {},
   "outputs": [
    {
     "data": {
      "text/plain": [
       "-1"
      ]
     },
     "execution_count": 7,
     "metadata": {},
     "output_type": "execute_result"
    }
   ],
   "source": [
    "def arithmetic_operation(string):\n",
    "    try:\n",
    "        cal = eval(string)\n",
    "    except Exception as e:\n",
    "        return -1\n",
    "    else:\n",
    "        return cal\n",
    "    \n",
    "arithmetic_operation(\"12 // 0\")"
   ]
  },
  {
   "cell_type": "code",
   "execution_count": 15,
   "metadata": {},
   "outputs": [
    {
     "data": {
      "text/plain": [
       "68.28"
      ]
     },
     "execution_count": 15,
     "metadata": {},
     "output_type": "execute_result"
    }
   ],
   "source": [
    "from math import sqrt\n",
    "def perimeter(list1):\n",
    "    len1 = sqrt(((list1[1][0] - list1[0][0])**2) + ((list1[1][1] - list1[0][1])**2))\n",
    "    len2 = sqrt(((list1[2][0] - list1[0][0])**2) + ((list1[2][1] - list1[0][1])**2))\n",
    "    len3 = sqrt(((list1[1][0] - list1[2][0])**2) + ((list1[1][1] - list1[2][1])**2))\n",
    "    return round(len1+len2+len3,2)\n",
    "\n",
    "perimeter( [ [-10, -10], [10, 10 ], [-10, 10] ] )"
   ]
  },
  {
   "cell_type": "code",
   "execution_count": 23,
   "metadata": {},
   "outputs": [
    {
     "data": {
      "text/plain": [
       "2"
      ]
     },
     "execution_count": 23,
     "metadata": {},
     "output_type": "execute_result"
    }
   ],
   "source": [
    "def tallest_skyscraper(list1):\n",
    "    n_list = []\n",
    "    for j in range(len(list1[0])):\n",
    "        count_1 = 0\n",
    "        for i in range(len(list1)):\n",
    "            if list1[i][j] == 1:\n",
    "                count_1 += 1\n",
    "        n_list.append(count_1)\n",
    "    return max(n_list)\n",
    "\n",
    "list1 = [[0, 0, 0, 0],[0, 0, 0, 0],[1, 1, 1, 0],[1, 1, 1, 1]]\n",
    "tallest_skyscraper(list1)"
   ]
  },
  {
   "cell_type": "code",
   "execution_count": 30,
   "metadata": {},
   "outputs": [
    {
     "data": {
      "text/plain": [
       "8200"
      ]
     },
     "execution_count": 30,
     "metadata": {},
     "output_type": "execute_result"
    }
   ],
   "source": [
    "def bonus(days):\n",
    "    if days<33:\n",
    "        return 0\n",
    "    elif days<41:\n",
    "        return (days - 32)*325\n",
    "    elif days< 49:\n",
    "        return ((8*325) + (days-40)*550)\n",
    "    else:\n",
    "        return ((8*325) + (8)*550 + (days-48)*600)\n",
    "    \n",
    "bonus(50)"
   ]
  },
  {
   "cell_type": "code",
   "execution_count": 37,
   "metadata": {},
   "outputs": [
    {
     "data": {
      "text/plain": [
       "True"
      ]
     },
     "execution_count": 37,
     "metadata": {},
     "output_type": "execute_result"
    }
   ],
   "source": [
    "def is_disarium(num):\n",
    "    string = str(num)\n",
    "    i = 1\n",
    "    sum = 0\n",
    "    for n in string:\n",
    "        sum += int(n)**i\n",
    "        i += 1\n",
    "    if sum == num:\n",
    "        return True\n",
    "    else:\n",
    "        return False\n",
    "    \n",
    "is_disarium(518)\n",
    "\n"
   ]
  }
 ],
 "metadata": {
  "kernelspec": {
   "display_name": "Python 3",
   "language": "python",
   "name": "python3"
  },
  "language_info": {
   "codemirror_mode": {
    "name": "ipython",
    "version": 3
   },
   "file_extension": ".py",
   "mimetype": "text/x-python",
   "name": "python",
   "nbconvert_exporter": "python",
   "pygments_lexer": "ipython3",
   "version": "3.8.5"
  }
 },
 "nbformat": 4,
 "nbformat_minor": 4
}
