{
 "cells": [
  {
   "cell_type": "code",
   "execution_count": 1,
   "metadata": {},
   "outputs": [
    {
     "name": "stdout",
     "output_type": "stream",
     "text": [
      "0\n"
     ]
    }
   ],
   "source": [
    "def check_score(list1,dict1):\n",
    "    sum1 = 0\n",
    "    for symbol in list1:\n",
    "        for sym in symbol:\n",
    "            sum1 += dict1[sym]\n",
    "    \n",
    "    if sum1<0:\n",
    "        return 0\n",
    "    else:\n",
    "        return sum1\n",
    "\n",
    "if __name__ == '__main__':\n",
    "    dict1 = {'#':5,'O':3,'X':1,'!':-1,'!!':-3,'!!!':-5}\n",
    "    list1 = [  [\"!!!\", \"O\", \"!\"],  [\"X\", \"#\", \"!!!\"],  [\"!!\", \"X\", \"O\"]]\n",
    "\n",
    "    a = check_score(list1,dict1)\n",
    "    print(a)"
   ]
  },
  {
   "cell_type": "code",
   "execution_count": 2,
   "metadata": {},
   "outputs": [
    {
     "name": "stdout",
     "output_type": "stream",
     "text": [
      "120\n"
     ]
    }
   ],
   "source": [
    "def combinations(*args):\n",
    "    cal = 1\n",
    "    for num in args:\n",
    "        cal *= num\n",
    "        \n",
    "    return cal\n",
    "\n",
    "if __name__ == '__main__':\n",
    "    a = combinations(2,3,4,5)\n",
    "    print(a)\n"
   ]
  },
  {
   "cell_type": "code",
   "execution_count": 3,
   "metadata": {},
   "outputs": [
    {
     "data": {
      "text/plain": [
       "'.-...--...-.....- -.-......-.-...-...-.--..'"
      ]
     },
     "execution_count": 3,
     "metadata": {},
     "output_type": "execute_result"
    }
   ],
   "source": [
    "char_to_dots = {\n",
    "  'A': '.-', 'B': '-...', 'C': '-.-.', 'D': '-..', 'E': '.', 'F': '..-.',\n",
    "  'G': '--.', 'H': '....', 'I': '..', 'J': '.---', 'K': '-.-', 'L': '.-..',\n",
    "  'M': '--', 'N': '-.', 'O': '---', 'P': '.--.', 'Q': '--.-', 'R': '.-.',\n",
    "  'S': '...', 'T': '-', 'U': '..-', 'V': '...-', 'W': '.--', 'X': '-..-',\n",
    "  'Y': '-.--', 'Z': '--..', ' ': ' ', '0': '-----',\n",
    "  '1': '.----', '2': '..---', '3': '...--', '4': '....-', '5': '.....',\n",
    "  '6': '-....', '7': '--...', '8': '---..', '9': '----.',\n",
    "  '&': '.-...', \"'\": '.----.', '@': '.--.-.', ')': '-.--.-', '(': '-.--.',\n",
    "  ':': '---...', ',': '--..--', '=': '-...-', '!': '-.-.--', '.': '.-.-.-',\n",
    "  '-': '-....-', '+': '.-.-.', '\"': '.-..-.', '?': '..--..', '/': '-..-.'\n",
    "}\n",
    "def encode_morse(string):\n",
    "    morse_code = ''\n",
    "    for char in string:\n",
    "        morse_code += char_to_dots[char]\n",
    "        \n",
    "    return morse_code\n",
    "\n",
    "encode_morse(\"EDABBIT CHALLENGE\") "
   ]
  },
  {
   "cell_type": "code",
   "execution_count": 4,
   "metadata": {},
   "outputs": [
    {
     "name": "stdout",
     "output_type": "stream",
     "text": [
      "Time taken = 0.0 \n",
      "Result = False\n"
     ]
    }
   ],
   "source": [
    "import time\n",
    "from math import sqrt\n",
    "def prime(num):\n",
    "    if num <0:\n",
    "        return False\n",
    "    elif num == 2:\n",
    "        return True\n",
    "    elif num % 2 == 0:\n",
    "        return False\n",
    "    else:\n",
    "        for n in range(3, (int(sqrt(num)))+1 , 2):\n",
    "            if num%n == 0:\n",
    "                return False\n",
    "                break\n",
    "        return True\n",
    "    \n",
    "    \n",
    "    \n",
    "if __name__ == '__main__':\n",
    "    start = time.time()\n",
    "    a = prime(5151512515524)\n",
    "    stop = time.time()\n",
    "    print(f'Time taken = {stop-start} \\nResult = {a}')"
   ]
  },
  {
   "cell_type": "code",
   "execution_count": 5,
   "metadata": {},
   "outputs": [
    {
     "name": "stdout",
     "output_type": "stream",
     "text": [
      "['False', 'True', 'False', 'True', 'True']\n"
     ]
    }
   ],
   "source": [
    "def to_boolean_list(word):\n",
    "    list1 = [\"False\"  if ord(char)%2==0 else 'True' for char in word]\n",
    "    return list1\n",
    "\n",
    "res = to_boolean_list('loves')\n",
    "print(res)"
   ]
  }
 ],
 "metadata": {
  "kernelspec": {
   "display_name": "Python 3",
   "language": "python",
   "name": "python3"
  },
  "language_info": {
   "codemirror_mode": {
    "name": "ipython",
    "version": 3
   },
   "file_extension": ".py",
   "mimetype": "text/x-python",
   "name": "python",
   "nbconvert_exporter": "python",
   "pygments_lexer": "ipython3",
   "version": "3.8.5"
  }
 },
 "nbformat": 4,
 "nbformat_minor": 4
}
