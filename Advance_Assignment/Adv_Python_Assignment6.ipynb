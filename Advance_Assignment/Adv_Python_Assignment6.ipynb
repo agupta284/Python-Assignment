{
 "cells": [
  {
   "cell_type": "code",
   "execution_count": 1,
   "metadata": {},
   "outputs": [
    {
     "data": {
      "text/plain": [
       "'a'"
      ]
     },
     "execution_count": 1,
     "metadata": {},
     "output_type": "execute_result"
    }
   ],
   "source": [
    "def find_the_difference(str1,str2):\n",
    "    if str1 == str2:\n",
    "        return \"None\"\n",
    "\n",
    "    elif len(str2)> len(str1):\n",
    "        temp = str1\n",
    "        str1 = str2\n",
    "        str2 = temp\n",
    "\n",
    "    for i in range(len(str1)+1):\n",
    "        try:\n",
    "            if str1[i] != str2[i]:\n",
    "                return str1[i]\n",
    "        except IndexError:\n",
    "            return str1[i]\n",
    "\n",
    "        \n",
    "find_the_difference(\"ae\", \"aea\")"
   ]
  },
  {
   "cell_type": "code",
   "execution_count": 2,
   "metadata": {},
   "outputs": [
    {
     "data": {
      "text/plain": [
       "[2, 2, 3, 1, 0, 2]"
      ]
     },
     "execution_count": 2,
     "metadata": {},
     "output_type": "execute_result"
    }
   ],
   "source": [
    "def count_datatypes(*args):\n",
    "    datatype_list = [int, str, bool, list, tuple, dict]\n",
    "    datatype_dict = {}\n",
    "    for mem in datatype_list:\n",
    "        datatype_dict[mem] = 0\n",
    "    for mem in args:\n",
    "        if type(mem) in datatype_dict:\n",
    "            datatype_dict[type(mem)] += 1\n",
    "        \n",
    "    return list(datatype_dict.values())\n",
    "    \n",
    "count_datatypes(\"Hello\", \"Bye\", True, True, False, {\"1\": \"One\", \"2\": \"Two\"}, [1, 3], {\"Brayan\": 18}, 25, 23)"
   ]
  },
  {
   "cell_type": "code",
   "execution_count": 3,
   "metadata": {},
   "outputs": [
    {
     "data": {
      "text/plain": [
       "'n k kn knk knkkn knkknknk'"
      ]
     },
     "execution_count": 3,
     "metadata": {},
     "output_type": "execute_result"
    }
   ],
   "source": [
    "def fib_str(num,list1):\n",
    "    if num<=2:\n",
    "        return ' '.join(list1[:num])\n",
    "    else:\n",
    "        for n in range(2,num):\n",
    "            list1.append(list1[n-1]+list1[n-2])\n",
    "        return ' '.join(list1)\n",
    "            \n",
    "    \n",
    "fib_str(6, [\"n\", \"k\"])"
   ]
  },
  {
   "cell_type": "code",
   "execution_count": 4,
   "metadata": {},
   "outputs": [
    {
     "data": {
      "text/plain": [
       "'nines:0, threes:0, ones:2'"
      ]
     },
     "execution_count": 4,
     "metadata": {},
     "output_type": "execute_result"
    }
   ],
   "source": [
    "def ones_threes_nines(num):\n",
    "    nines = num//9\n",
    "    num = num - nines*9\n",
    "    threes = num//3\n",
    "    ones = num - threes*3\n",
    "    return f'nines:{nines}, threes:{threes}, ones:{ones}'\n",
    "\n",
    "ones_threes_nines(2) "
   ]
  },
  {
   "cell_type": "code",
   "execution_count": 5,
   "metadata": {},
   "outputs": [
    {
     "data": {
      "text/plain": [
       "8"
      ]
     },
     "execution_count": 5,
     "metadata": {},
     "output_type": "execute_result"
    }
   ],
   "source": [
    "def fib(num):\n",
    "    fib_list = [0,1]\n",
    "    if num == 0 or num == 1:\n",
    "        return fib_list[num]\n",
    "    elif num>1:\n",
    "        for n in range(2,num+1):\n",
    "            fib_list.append(fib_list[n-1]+ fib_list[n-2])\n",
    "        return fib_list[num]\n",
    "    else:\n",
    "        return 'None'\n",
    "    \n",
    "fib(6)"
   ]
  }
 ],
 "metadata": {
  "kernelspec": {
   "display_name": "Python 3",
   "language": "python",
   "name": "python3"
  },
  "language_info": {
   "codemirror_mode": {
    "name": "ipython",
    "version": 3
   },
   "file_extension": ".py",
   "mimetype": "text/x-python",
   "name": "python",
   "nbconvert_exporter": "python",
   "pygments_lexer": "ipython3",
   "version": "3.8.5"
  }
 },
 "nbformat": 4,
 "nbformat_minor": 4
}
