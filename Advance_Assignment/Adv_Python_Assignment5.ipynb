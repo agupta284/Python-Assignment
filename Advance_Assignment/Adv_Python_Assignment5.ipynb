{
 "cells": [
  {
   "cell_type": "code",
   "execution_count": 8,
   "metadata": {},
   "outputs": [
    {
     "data": {
      "text/plain": [
       "'even'"
      ]
     },
     "execution_count": 8,
     "metadata": {},
     "output_type": "execute_result"
    }
   ],
   "source": [
    "def odd_even(num):\n",
    "    list1 = ['even','odd']\n",
    "    cal = num - (num//2)*2\n",
    "    return list1[cal]\n",
    "\n",
    "\n",
    "odd_even(4)"
   ]
  },
  {
   "cell_type": "code",
   "execution_count": 14,
   "metadata": {},
   "outputs": [
    {
     "data": {
      "text/plain": [
       "'None'"
      ]
     },
     "execution_count": 14,
     "metadata": {},
     "output_type": "execute_result"
    }
   ],
   "source": [
    "def majority_vote(list1):\n",
    "    unique = set(list1)\n",
    "    \n",
    "    for mem in unique:\n",
    "        if list1.count(mem) > len(list1)//2:\n",
    "            return mem\n",
    "    return 'None'\n",
    "    \n",
    "    \n",
    "majority_vote([\"A\", \"B\", \"B\", \"A\", \"C\", \"C\"]) "
   ]
  },
  {
   "cell_type": "code",
   "execution_count": 18,
   "metadata": {},
   "outputs": [
    {
     "data": {
      "text/plain": [
       "'----- is - Wednesday!'"
      ]
     },
     "execution_count": 18,
     "metadata": {},
     "output_type": "execute_result"
    }
   ],
   "source": [
    "def censor_string(string,list1,symbol):\n",
    "    str_list = string.split()\n",
    "    for strg in str_list:\n",
    "        if strg in list1:\n",
    "            index = str_list.index(strg)\n",
    "            str_list.remove(strg)\n",
    "            str_list.insert(index,symbol*len(strg))\n",
    "    return ' '.join(str_list)\n",
    "    \n",
    "censor_string(\"Today is a Wednesday!\", [\"Today\", \"a\"], \"-\")"
   ]
  },
  {
   "cell_type": "code",
   "execution_count": 20,
   "metadata": {},
   "outputs": [
    {
     "data": {
      "text/plain": [
       "False"
      ]
     },
     "execution_count": 20,
     "metadata": {},
     "output_type": "execute_result"
    }
   ],
   "source": [
    "def is_polydivisible(num):\n",
    "    string = str(num)\n",
    "    i = 1\n",
    "    for num in string:\n",
    "        if int(num) % i != 0:\n",
    "            return False\n",
    "        else:\n",
    "            i+=1\n",
    "    return True\n",
    "\n",
    "is_polydivisible(123220)"
   ]
  },
  {
   "cell_type": "code",
   "execution_count": 23,
   "metadata": {},
   "outputs": [
    {
     "data": {
      "text/plain": [
       "87"
      ]
     },
     "execution_count": 23,
     "metadata": {},
     "output_type": "execute_result"
    }
   ],
   "source": [
    "from math import sqrt\n",
    "import time\n",
    "def is_prime(num):\n",
    "    if num == 2:\n",
    "        return True\n",
    "    elif num < 2 :\n",
    "        return False\n",
    "    elif num % 2 != 0 :\n",
    "        for i in range(3,int(sqrt(num))+2):\n",
    "            if num % i == 0:\n",
    "                return False\n",
    "        return True\n",
    "\n",
    "def sum_primes(list1):\n",
    "    prime_sum = 0\n",
    "    for num in list1:\n",
    "        if is_prime(num):\n",
    "            prime_sum += num\n",
    "    if prime_sum > 0:\n",
    "        return prime_sum\n",
    "    else:\n",
    "        return 'None'\n",
    "\n",
    "sum_primes([2, 3, 4, 11, 20, 50, 71]) \n",
    "            "
   ]
  }
 ],
 "metadata": {
  "kernelspec": {
   "display_name": "Python 3",
   "language": "python",
   "name": "python3"
  },
  "language_info": {
   "codemirror_mode": {
    "name": "ipython",
    "version": 3
   },
   "file_extension": ".py",
   "mimetype": "text/x-python",
   "name": "python",
   "nbconvert_exporter": "python",
   "pygments_lexer": "ipython3",
   "version": "3.8.5"
  }
 },
 "nbformat": 4,
 "nbformat_minor": 4
}
