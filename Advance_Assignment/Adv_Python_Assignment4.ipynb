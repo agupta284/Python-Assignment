{
 "cells": [
  {
   "cell_type": "code",
   "execution_count": 1,
   "metadata": {},
   "outputs": [
    {
     "data": {
      "text/plain": [
       "12586269025"
      ]
     },
     "execution_count": 1,
     "metadata": {},
     "output_type": "execute_result"
    }
   ],
   "source": [
    "def fib_fast(num):\n",
    "    fib_list = [0,1]\n",
    "    for n in range(2,num+1):\n",
    "        fib_list.append(fib_list[n-1]+ fib_list[n-2])\n",
    "    return fib_list[num]\n",
    "\n",
    "fib_fast(50)"
   ]
  },
  {
   "cell_type": "code",
   "execution_count": 2,
   "metadata": {},
   "outputs": [
    {
     "data": {
      "text/plain": [
       "' 68 65 6c 6c 6f 20 77 6f 72 6c 64'"
      ]
     },
     "execution_count": 2,
     "metadata": {},
     "output_type": "execute_result"
    }
   ],
   "source": [
    "def convert_to_hex(string):\n",
    "    n_string = ''\n",
    "    for char in string:\n",
    "        val = hex(ord(char)).replace('0x',' ')\n",
    "        n_string += val\n",
    "    return n_string\n",
    "\n",
    "convert_to_hex(\"hello world\")"
   ]
  },
  {
   "cell_type": "code",
   "execution_count": 3,
   "metadata": {},
   "outputs": [
    {
     "data": {
      "text/plain": [
       "'UPPERCASE'"
      ]
     },
     "execution_count": 3,
     "metadata": {},
     "output_type": "execute_result"
    }
   ],
   "source": [
    "def uncensor(string,vovel):\n",
    "    i=0\n",
    "    new_string = ''\n",
    "    for char in string:\n",
    "        if char == '*':\n",
    "            new_string += vovel[i]\n",
    "            i += 1\n",
    "        else:\n",
    "            new_string += char\n",
    "    return new_string\n",
    "\n",
    "uncensor(\"*PP*RC*S*\", \"UEAE\")"
   ]
  },
  {
   "cell_type": "code",
   "execution_count": 4,
   "metadata": {},
   "outputs": [
    {
     "data": {
      "text/plain": [
       "'dns.google'"
      ]
     },
     "execution_count": 4,
     "metadata": {},
     "output_type": "execute_result"
    }
   ],
   "source": [
    "import socket\n",
    "def get_domain(string):\n",
    "    domain,_,_ = socket.gethostbyaddr(string)\n",
    "    return domain\n",
    "\n",
    "get_domain(\"8.8.8.8\")"
   ]
  },
  {
   "cell_type": "code",
   "execution_count": 5,
   "metadata": {},
   "outputs": [
    {
     "data": {
      "text/plain": [
       "34560"
      ]
     },
     "execution_count": 5,
     "metadata": {},
     "output_type": "execute_result"
    }
   ],
   "source": [
    "def fact_of_fact(num):\n",
    "    fact_list = [1,1]\n",
    "    cal = 1\n",
    "    for n in range(2,num+1):\n",
    "        fact_list.insert(n,n*fact_list[n-1])\n",
    "    for n in range(num+1):\n",
    "        cal *= fact_list[n]\n",
    "    return cal\n",
    "\n",
    "fact_of_fact(5)"
   ]
  }
 ],
 "metadata": {
  "kernelspec": {
   "display_name": "Python 3",
   "language": "python",
   "name": "python3"
  },
  "language_info": {
   "codemirror_mode": {
    "name": "ipython",
    "version": 3
   },
   "file_extension": ".py",
   "mimetype": "text/x-python",
   "name": "python",
   "nbconvert_exporter": "python",
   "pygments_lexer": "ipython3",
   "version": "3.8.5"
  }
 },
 "nbformat": 4,
 "nbformat_minor": 4
}
