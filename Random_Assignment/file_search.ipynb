{
 "cells": [
  {
   "cell_type": "code",
   "execution_count": 1,
   "metadata": {},
   "outputs": [],
   "source": [
    "class data:\n",
    "    def __init__(self,file_name, file_type,date,size):\n",
    "        self.file_name= file_name\n",
    "        self.file_type = file_type\n",
    "        self.date = date\n",
    "        self.size=size\n",
    "    def open(self):\n",
    "        f= open(self.file_name + self.file_type,'w+')\n",
    "        f.read()\n",
    "        f.close()\n",
    "        \n",
    "    def appending(self):\n",
    "        f = open(self.file_name + self.file_type,'a')\n",
    "        f.write('this is the appended data')"
   ]
  },
  {
   "cell_type": "code",
   "execution_count": 2,
   "metadata": {},
   "outputs": [],
   "source": [
    "data1 = data('test3','.txt',20210403,'2MB')\n",
    "data1.open()\n",
    "data1.appending()"
   ]
  },
  {
   "cell_type": "code",
   "execution_count": 3,
   "metadata": {},
   "outputs": [],
   "source": [
    "import string\n",
    "import logging as lg\n",
    "import os\n",
    "\n",
    "def set_dir():\n",
    "    os.chdir('D:/File/Python')\n",
    "    \n",
    "\n",
    "def logger():\n",
    "    path = os.getcwd()\n",
    "#    log_file = '\\\\log1.txt'\n",
    " #   os.remove(path+log_file)\n",
    "    lg.basicConfig(filename = 'Python1.txt', level = lg.INFO , format = '%(asctime)s %(message)s')\n",
    "\n",
    "def search_drives():\n",
    "    set_dir()\n",
    "    logger()\n",
    "    lg.info(' In search_drives')\n",
    "    drives = []\n",
    "    strings = string.ascii_uppercase\n",
    "    for s in strings:\n",
    "        if os.path.exists(s +':\\\\'):\n",
    "            drives.append(s +':\\\\')\n",
    "        else:\n",
    "            continue\n",
    "    lg.info(f'Drives on the system are : {drives}')\n",
    "    return drives\n",
    "    \n",
    "def search_file(file_type):\n",
    "    drives = search_drives()\n",
    "    for drive in drives:\n",
    "        for dirpath, dirnames, filenames in os.walk(drive):\n",
    "            for file in filenames:\n",
    "                if file.casefold().endswith(file_type):\n",
    "                    lg.info(dirpath + '\\\\' +file)\n",
    "    print('Success')"
   ]
  },
  {
   "cell_type": "code",
   "execution_count": 4,
   "metadata": {},
   "outputs": [
    {
     "name": "stdout",
     "output_type": "stream",
     "text": [
      "Success\n"
     ]
    }
   ],
   "source": [
    "search_file('.ipynb')"
   ]
  },
  {
   "cell_type": "code",
   "execution_count": null,
   "metadata": {},
   "outputs": [],
   "source": []
  }
 ],
 "metadata": {
  "kernelspec": {
   "display_name": "Python 3",
   "language": "python",
   "name": "python3"
  },
  "language_info": {
   "codemirror_mode": {
    "name": "ipython",
    "version": 3
   },
   "file_extension": ".py",
   "mimetype": "text/x-python",
   "name": "python",
   "nbconvert_exporter": "python",
   "pygments_lexer": "ipython3",
   "version": "3.7.6"
  }
 },
 "nbformat": 4,
 "nbformat_minor": 4
}
