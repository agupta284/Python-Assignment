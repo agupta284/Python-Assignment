{
 "cells": [
  {
   "cell_type": "code",
   "execution_count": 17,
   "metadata": {},
   "outputs": [
    {
     "name": "stdout",
     "output_type": "stream",
     "text": [
      "Enter the num of level you want to cunstruct : 15\n",
      "You need total 680 glasses.\n"
     ]
    }
   ],
   "source": [
    "def total_wine_glass(n):\n",
    "    sum1 = 0\n",
    "    list1 = []\n",
    "    for num in range(1,n+1):\n",
    "        sum1 += num*(num+1)/2\n",
    "    return sum1\n",
    "\n",
    "if __name__ == '__main__':\n",
    "    num = int(input('Enter the num of level you want to cunstruct : '))\n",
    "    sum1 = total_wine_glass(num)\n",
    "    print(f'You need total {int(sum1)} glasses.')"
   ]
  }
 ],
 "metadata": {
  "kernelspec": {
   "display_name": "Python 3",
   "language": "python",
   "name": "python3"
  },
  "language_info": {
   "codemirror_mode": {
    "name": "ipython",
    "version": 3
   },
   "file_extension": ".py",
   "mimetype": "text/x-python",
   "name": "python",
   "nbconvert_exporter": "python",
   "pygments_lexer": "ipython3",
   "version": "3.7.6"
  }
 },
 "nbformat": 4,
 "nbformat_minor": 4
}
