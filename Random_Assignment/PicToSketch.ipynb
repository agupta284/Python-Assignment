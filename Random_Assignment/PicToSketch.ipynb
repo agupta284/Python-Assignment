{
 "cells": [
  {
   "cell_type": "code",
   "execution_count": 1,
   "metadata": {},
   "outputs": [],
   "source": [
    "import cv2\n",
    "import os"
   ]
  },
  {
   "cell_type": "code",
   "execution_count": 4,
   "metadata": {},
   "outputs": [],
   "source": [
    "path = '*************'\n",
    "images = []\n",
    "name = []\n",
    "for dirpath,dirname,filenames in os.walk(path):\n",
    "    for img in filenames:\n",
    "        if img.endswith('.jpg'):\n",
    "            images.append(dirpath+'\\\\'+img)\n",
    "            name.append(img)\n",
    "            \n",
    "#os.makedirs(r'D:\\Pics\\yuvi\\Sketchs')"
   ]
  },
  {
   "cell_type": "code",
   "execution_count": 5,
   "metadata": {},
   "outputs": [],
   "source": [
    "i =0\n",
    "for image in images:\n",
    "    image = cv2.imread(image)\n",
    "    image_clr = cv2.cvtColor(image,cv2.COLOR_BGR2GRAY)\n",
    "    image_inv = 255 - image_clr\n",
    "    blurred = cv2.GaussianBlur(image_inv,(29,29),0)\n",
    "    inv_blur = 255 - blurred\n",
    "    pencil_sketch = cv2.divide(image_clr,inv_blur,scale=256.0)\n",
    "    os.chdir(r'*************************')\n",
    "    cv2.imwrite(name[i],pencil_sketch)\n",
    "    i += 1"
   ]
  },
  {
   "cell_type": "code",
   "execution_count": null,
   "metadata": {},
   "outputs": [],
   "source": []
  },
  {
   "cell_type": "code",
   "execution_count": null,
   "metadata": {},
   "outputs": [],
   "source": []
  },
  {
   "cell_type": "code",
   "execution_count": null,
   "metadata": {},
   "outputs": [],
   "source": []
  }
 ],
 "metadata": {
  "kernelspec": {
   "display_name": "Python 3",
   "language": "python",
   "name": "python3"
  },
  "language_info": {
   "codemirror_mode": {
    "name": "ipython",
    "version": 3
   },
   "file_extension": ".py",
   "mimetype": "text/x-python",
   "name": "python",
   "nbconvert_exporter": "python",
   "pygments_lexer": "ipython3",
   "version": "3.7.6"
  }
 },
 "nbformat": 4,
 "nbformat_minor": 4
}
