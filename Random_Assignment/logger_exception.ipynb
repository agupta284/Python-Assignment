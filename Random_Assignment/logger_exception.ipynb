{
 "cells": [
  {
   "cell_type": "code",
   "execution_count": 1,
   "metadata": {},
   "outputs": [],
   "source": [
    "import os\n",
    "import logging as lg\n",
    "\n",
    "spath = os.getcwd()\n",
    "wpath = 'D:/File'"
   ]
  },
  {
   "cell_type": "code",
   "execution_count": 2,
   "metadata": {},
   "outputs": [
    {
     "data": {
      "text/plain": [
       "'D:\\\\File\\\\Python'"
      ]
     },
     "execution_count": 2,
     "metadata": {},
     "output_type": "execute_result"
    }
   ],
   "source": [
    "os.chdir(wpath + '/Python')\n",
    "os.getcwd()"
   ]
  },
  {
   "cell_type": "code",
   "execution_count": 3,
   "metadata": {},
   "outputs": [],
   "source": [
    "lg.basicConfig(filename = 'test1.txt', level = lg.INFO , format = '%(asctime)s %(message)s')"
   ]
  },
  {
   "cell_type": "code",
   "execution_count": 4,
   "metadata": {},
   "outputs": [],
   "source": [
    "def addition(num):\n",
    "    lg.info('Addition function is called.')\n",
    "    sum = 0\n",
    "    for i in num:\n",
    "        try:\n",
    "            lg.info(f'{str(i)} is being processed.')\n",
    "        except Exception as e:\n",
    "            lg.info(str(e))\n",
    "            lg.shutdown()\n",
    "        else:\n",
    "            sum+= i\n",
    "    return sum\n"
   ]
  },
  {
   "cell_type": "code",
   "execution_count": 11,
   "metadata": {},
   "outputs": [
    {
     "name": "stdout",
     "output_type": "stream",
     "text": [
      "Enter the numbers with space seperate1 2 3\n",
      "Your sum is 6\n",
      "2021-04-13 16:01:23,025 Entered numbers are valid\n",
      "2021-04-13 16:01:23,026 Addition function is called.\n",
      "2021-04-13 16:01:23,026 1 is being processed.\n",
      "2021-04-13 16:01:23,026 2 is being processed.\n",
      "2021-04-13 16:01:23,027 3 is being processed.\n",
      "2021-04-13 16:01:23,027 4 is being processed.\n",
      "2021-04-13 16:01:23,027 5 is being processed.\n",
      "2021-04-13 16:01:23,028 6 is being processed.\n",
      "2021-04-13 16:01:23,028 7 is being processed.\n",
      "2021-04-13 16:01:23,028 8 is being processed.\n",
      "2021-04-13 16:01:23,029 9 is being processed.\n",
      "2021-04-13 16:01:23,032 Your sum is 45\n",
      "2021-04-13 16:07:36,882 Entered numbers are valid\n",
      "2021-04-13 16:07:36,883 Addition function is called.\n",
      "2021-04-13 16:07:36,883 1 is being processed.\n",
      "2021-04-13 16:07:36,886 2 is being processed.\n",
      "2021-04-13 16:07:36,886 3 is being processed.\n",
      "2021-04-13 16:07:36,887 4 is being processed.\n",
      "2021-04-13 16:07:36,887 5 is being processed.\n",
      "2021-04-13 16:07:36,889 Your sum is 15\n",
      "2021-04-13 16:08:57,391 Entered numbers are valid\n",
      "2021-04-13 16:08:57,391 Addition function is called.\n",
      "2021-04-13 16:08:57,391 1 is being processed.\n",
      "2021-04-13 16:08:57,392 2 is being processed.\n",
      "2021-04-13 16:08:57,392 3 is being processed.\n",
      "2021-04-13 16:08:57,392 4 is being processed.\n",
      "2021-04-13 16:08:57,392 5 is being processed.\n",
      "2021-04-13 16:08:57,394 Your sum is 15\n",
      "2021-04-13 16:09:33,513 Entered numbers are valid\n",
      "2021-04-13 16:09:33,514 Addition function is called.\n",
      "2021-04-13 16:09:33,514 1 is being processed.\n",
      "2021-04-13 16:09:33,514 2 is being processed.\n",
      "2021-04-13 16:09:33,515 3 is being processed.\n",
      "2021-04-13 16:09:33,516 Your sum is 6\n",
      "\n"
     ]
    }
   ],
   "source": [
    "try:\n",
    "    list1 = [int(x) for x in input('Enter the numbers with space seperate').split()]\n",
    "except Exception as e:\n",
    "    lg.error('Invalid input' ,str(e))\n",
    "    lg.Exception(str(e))\n",
    "    \n",
    "else:\n",
    "    lg.info('Entered numbers are valid')\n",
    "    try:\n",
    "        add = addition(list1)\n",
    "    except Exception as e:\n",
    "        lg.Exception(str(e))\n",
    "    else:\n",
    "        print(f'Your sum is {add}')\n",
    "        lg.info(f'Your sum is {add}')\n",
    "        try:\n",
    "            f= open('test1.txt','r')\n",
    "            print(f.read())\n",
    "        except Exception as e:\n",
    "            lg.Exception(str(e))\n",
    "        "
   ]
  },
  {
   "cell_type": "code",
   "execution_count": null,
   "metadata": {},
   "outputs": [],
   "source": []
  }
 ],
 "metadata": {
  "kernelspec": {
   "display_name": "Python 3",
   "language": "python",
   "name": "python3"
  },
  "language_info": {
   "codemirror_mode": {
    "name": "ipython",
    "version": 3
   },
   "file_extension": ".py",
   "mimetype": "text/x-python",
   "name": "python",
   "nbconvert_exporter": "python",
   "pygments_lexer": "ipython3",
   "version": "3.7.6"
  }
 },
 "nbformat": 4,
 "nbformat_minor": 4
}
