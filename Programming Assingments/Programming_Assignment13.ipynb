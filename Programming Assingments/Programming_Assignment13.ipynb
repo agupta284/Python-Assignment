{
 "cells": [
  {
   "cell_type": "code",
   "execution_count": 3,
   "metadata": {},
   "outputs": [
    {
     "name": "stdout",
     "output_type": "stream",
     "text": [
      "Enter the values of D :100,150,180\n",
      "18,22,24\n"
     ]
    }
   ],
   "source": [
    "import math\n",
    "def rand_formula(d,C=50,H=30):\n",
    "    list1 = []\n",
    "    for D in d:\n",
    "        cal = int(math.sqrt(2*C*D/H))\n",
    "        list1.append(cal)\n",
    "    return list1\n",
    "\n",
    "d = [int(i) for i in input('Enter the values of D :').split(',')]\n",
    "res = [str(i) for i in rand_formula(d)]\n",
    "print(','.join(res))"
   ]
  },
  {
   "cell_type": "code",
   "execution_count": 27,
   "metadata": {},
   "outputs": [
    {
     "name": "stdout",
     "output_type": "stream",
     "text": [
      "Enter the value of X(Row) :3\n",
      "Enter the value of Y(Column) :5\n"
     ]
    },
    {
     "data": {
      "text/plain": [
       "[[0, 0, 0, 0, 0], [0, 1, 2, 3, 4], [0, 2, 4, 6, 8]]"
      ]
     },
     "execution_count": 27,
     "metadata": {},
     "output_type": "execute_result"
    }
   ],
   "source": [
    "def rand_fun(x,y):\n",
    "    list1 = [[i*j for j in range(y)] for i in range(x)]\n",
    "    return list1\n",
    "''' list1 = []\n",
    "    for i in range(x):\n",
    "        list1.append([])\n",
    "        for j in range(y):\n",
    "            list1[i].append(i*j)'''\n",
    "    \n",
    "\n",
    "x = int(input('Enter the value of X(Row) :'))\n",
    "y = int(input('Enter the value of Y(Column) :'))\n",
    "rand_fun(x,y)"
   ]
  },
  {
   "cell_type": "code",
   "execution_count": 34,
   "metadata": {},
   "outputs": [
    {
     "name": "stdout",
     "output_type": "stream",
     "text": [
      "Enter the words comma seperated: without,hello,bag,world\n",
      "bag,hello,without,world\n"
     ]
    }
   ],
   "source": [
    "def sort_words(list1):\n",
    "    list1.sort()\n",
    "    return list1\n",
    "\n",
    "list1 = input('Enter the words comma seperated: ').split(',')\n",
    "res = sort_words(list1)\n",
    "print(','.join(res))"
   ]
  },
  {
   "cell_type": "code",
   "execution_count": 38,
   "metadata": {},
   "outputs": [
    {
     "name": "stdout",
     "output_type": "stream",
     "text": [
      "Enter the words space seperated: hello world and practice makes perfect and hello world again\n",
      "hello again world practice and perfect makes\n"
     ]
    }
   ],
   "source": [
    "def remove_dup_sort_words(list1):\n",
    "    list1.sort()\n",
    "    list1 = set(list1)\n",
    "    return list1\n",
    "\n",
    "list1 = input('Enter the words space seperated: ').split(' ')\n",
    "res = remove_dup_sort_words(list1)\n",
    "print(' '.join(res))"
   ]
  },
  {
   "cell_type": "code",
   "execution_count": 54,
   "metadata": {},
   "outputs": [
    {
     "name": "stdout",
     "output_type": "stream",
     "text": [
      "Enter the string : hello world! 123\n",
      "There are 10 letters in the given string.\n",
      "There are 3 digits in the given string.\n"
     ]
    }
   ],
   "source": [
    "def dig_word_count(string):\n",
    "    letter_count = 0\n",
    "    digit_count = 0\n",
    "    for char in string:\n",
    "        if (ord(char)>64 and ord(char)<91) or (ord(char)>96 and ord(char)<123):\n",
    "            letter_count += 1\n",
    "        elif ord(char)>48 and ord(char)<58 :\n",
    "            digit_count += 1\n",
    "        else:\n",
    "            continue\n",
    "    return (letter_count,digit_count)\n",
    "\n",
    "string = input('Enter the string : ')\n",
    "res = dig_word_count(string)\n",
    "print(f'There are {res[0]} letters in the given string.')\n",
    "print(f'There are {res[1]} digits in the given string.')"
   ]
  },
  {
   "cell_type": "code",
   "execution_count": 64,
   "metadata": {},
   "outputs": [],
   "source": [
    "import time,re\n",
    "def re_method(string):\n",
    "    s_time = time.time()\n",
    "    list1 = string.split(',')\n",
    "    valid_pass = []\n",
    "    reg = \"^(?=.*[a-z])(?=.*[A-Z])(?=.*\\d)(?=.*[@$!%*#?&])[A-Za-z\\d@$!#%*?&]{6,20}$\"\n",
    "    pat = re.compile(reg)\n",
    "    for paswrd in list1:\n",
    "        mat = re.search(pat, paswrd)\n",
    "        if mat:\n",
    "            valid_pass.append(paswrd)\n",
    "        else:\n",
    "            continue\n",
    "    e_time = time.time()\n",
    "    total_time = e_time - s_time\n",
    "    return (valid_pass,total_time)\n",
    "\n"
   ]
  },
  {
   "cell_type": "code",
   "execution_count": 67,
   "metadata": {},
   "outputs": [],
   "source": [
    "def password_check(string):\n",
    "    s_time = time.time()\n",
    "    SpecialSym =['$', '@', '#', '%']\n",
    "    list1 = string.split(',')\n",
    "    valid_pass = []\n",
    "    for passwd in list1:\n",
    "        val = True\n",
    "        if len(passwd) < 6:\n",
    "  #          print('length should be at least 6')\n",
    "            val = False\n",
    "\n",
    "        if len(passwd) > 20:\n",
    " #           print('length should be not be greater than 8')\n",
    "            val = False\n",
    "\n",
    "        if not any(char.isdigit() for char in passwd):\n",
    "#            print('Password should have at least one numeral')\n",
    "            val = False\n",
    "\n",
    "        if not any(char.isupper() for char in passwd):\n",
    "#            print('Password should have at least one uppercase letter')\n",
    "            val = False\n",
    "\n",
    "        if not any(char.islower() for char in passwd):\n",
    "#            print('Password should have at least one lowercase letter')\n",
    "            val = False\n",
    "\n",
    "        if not any(char in SpecialSym for char in passwd):\n",
    "#            print('Password should have at least one of the symbols $@#')\n",
    "            val = False\n",
    "        if val:\n",
    "            valid_pass.append(passwd)\n",
    "    e_time = time.time()\n",
    "    total_time = e_time - s_time\n",
    "    return (valid_pass,total_time)\n"
   ]
  },
  {
   "cell_type": "code",
   "execution_count": 85,
   "metadata": {},
   "outputs": [
    {
     "name": "stdout",
     "output_type": "stream",
     "text": [
      "12.44751238822937\n",
      "6.513229608535767\n"
     ]
    }
   ],
   "source": [
    "string = 'ABd1234@1,a F1#,2w3E*,2We3345'\n",
    "print(password_check(string))\n",
    "print(re_method(string))  #Almost two times faster"
   ]
  }
 ],
 "metadata": {
  "kernelspec": {
   "display_name": "Python 3",
   "language": "python",
   "name": "python3"
  },
  "language_info": {
   "codemirror_mode": {
    "name": "ipython",
    "version": 3
   },
   "file_extension": ".py",
   "mimetype": "text/x-python",
   "name": "python",
   "nbconvert_exporter": "python",
   "pygments_lexer": "ipython3",
   "version": "3.7.6"
  }
 },
 "nbformat": 4,
 "nbformat_minor": 4
}
