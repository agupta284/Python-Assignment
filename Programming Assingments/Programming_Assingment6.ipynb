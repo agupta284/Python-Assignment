{
 "cells": [
  {
   "cell_type": "markdown",
   "metadata": {},
   "source": [
    "# Write a Python Program to Display Fibonacci Sequence Using Recursion"
   ]
  },
  {
   "cell_type": "code",
   "execution_count": 1,
   "metadata": {},
   "outputs": [
    {
     "name": "stdout",
     "output_type": "stream",
     "text": [
      "Enter a number: 10\n",
      "Fibonacci sequence:\n",
      "0\n",
      "1\n",
      "1\n",
      "2\n",
      "3\n",
      "5\n",
      "8\n",
      "13\n",
      "21\n",
      "34\n"
     ]
    }
   ],
   "source": [
    "def fib_series(num):\n",
    "    if num<=1:\n",
    "        return num\n",
    "    else:\n",
    "        return fib_series(num-1) + fib_series(num-2)\n",
    "\n",
    "num = int(input('Enter a number: '))\n",
    "print(\"Fibonacci sequence:\")\n",
    "for i in range(num):\n",
    "    print(fib_series(i))"
   ]
  },
  {
   "cell_type": "markdown",
   "metadata": {},
   "source": [
    "# Write a Python Program to Find Factorial of Number Using Recursion"
   ]
  },
  {
   "cell_type": "code",
   "execution_count": 2,
   "metadata": {},
   "outputs": [
    {
     "name": "stdout",
     "output_type": "stream",
     "text": [
      "Enter the number :6\n",
      "Factorial of  6  is:  720\n"
     ]
    }
   ],
   "source": [
    "def factorial(num):\n",
    "    if num>1:\n",
    "        return num*factorial(num-1)\n",
    "    else:\n",
    "        return 1\n",
    "\n",
    "num  = int(input(\"Enter the number :\"))\n",
    "print('Factorial of ', num,' is: ',factorial(num))"
   ]
  },
  {
   "cell_type": "markdown",
   "metadata": {},
   "source": [
    "# Write a Python Program to calculate your Body Mass Index"
   ]
  },
  {
   "cell_type": "code",
   "execution_count": 4,
   "metadata": {},
   "outputs": [
    {
     "name": "stdout",
     "output_type": "stream",
     "text": [
      "enter your weight in KG: 74\n",
      "Enter your height in inch: 70\n",
      "Your BMI is 10.61673469387755\n"
     ]
    }
   ],
   "source": [
    "w= float(input('enter your weight in KG: '))\n",
    "h = float(input('Enter your height in inch: '))\n",
    "BMI = w*703/h**2\n",
    "print('Your BMI is '+ str(BMI))"
   ]
  },
  {
   "cell_type": "markdown",
   "metadata": {},
   "source": [
    "# Write a Python Program to calculate the natural logarithm of any number"
   ]
  },
  {
   "cell_type": "code",
   "execution_count": 9,
   "metadata": {},
   "outputs": [
    {
     "name": "stdout",
     "output_type": "stream",
     "text": [
      "Enter a number :10\n",
      "Log value of 10 is 1.0\n"
     ]
    }
   ],
   "source": [
    "import math\n",
    "num = int(input('Enter a number :'))\n",
    "print(f'Log value of {num} is {math.log(num,10)}')"
   ]
  },
  {
   "cell_type": "markdown",
   "metadata": {},
   "source": [
    "# Write a Python Program for cube sum of first n natural numbers"
   ]
  },
  {
   "cell_type": "code",
   "execution_count": 7,
   "metadata": {},
   "outputs": [
    {
     "name": "stdout",
     "output_type": "stream",
     "text": [
      "Enter a number :6\n",
      "Cube sum of first 6 natural number is 441.0\n"
     ]
    }
   ],
   "source": [
    "def cube_sum(num):\n",
    "    cal = (num*(num+1)/2)**2\n",
    "    return cal\n",
    "    \n",
    "num = int(input('Enter a number :'))\n",
    "print(f'Cube sum of first {num} natural number is {cube_sum(num)}')"
   ]
  }
 ],
 "metadata": {
  "kernelspec": {
   "display_name": "Python 3",
   "language": "python",
   "name": "python3"
  },
  "language_info": {
   "codemirror_mode": {
    "name": "ipython",
    "version": 3
   },
   "file_extension": ".py",
   "mimetype": "text/x-python",
   "name": "python",
   "nbconvert_exporter": "python",
   "pygments_lexer": "ipython3",
   "version": "3.8.5"
  }
 },
 "nbformat": 4,
 "nbformat_minor": 4
}
