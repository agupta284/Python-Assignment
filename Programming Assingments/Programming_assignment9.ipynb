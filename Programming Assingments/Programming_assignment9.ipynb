{
 "cells": [
  {
   "cell_type": "markdown",
   "metadata": {},
   "source": [
    "# Check if the given number is a Disarium Number"
   ]
  },
  {
   "cell_type": "code",
   "execution_count": 2,
   "metadata": {},
   "outputs": [
    {
     "name": "stdout",
     "output_type": "stream",
     "text": [
      "Enter a number : 134\n",
      "134 number is not a disarium number\n"
     ]
    }
   ],
   "source": [
    "def disarium_num(num):\n",
    "    sum1 = 0\n",
    "    i =1\n",
    "    s_num = str(num)\n",
    "    for a in s_num:\n",
    "        sum1 += int(a)**i\n",
    "        i += 1\n",
    "    if sum1 == num:\n",
    "        return True\n",
    "    else:\n",
    "        return False\n",
    "    \n",
    "if __name__== '__main__':\n",
    "    num = int(input('Enter a number : '))\n",
    "    if disarium_num(num):\n",
    "        print(f'{num} number is a disarium number')\n",
    "    else:\n",
    "        print(f'{num} number is not a disarium number')"
   ]
  },
  {
   "cell_type": "markdown",
   "metadata": {},
   "source": [
    "# Write a Python program to print all disarium numbers between 1 to 100?"
   ]
  },
  {
   "cell_type": "code",
   "execution_count": 3,
   "metadata": {},
   "outputs": [
    {
     "name": "stdout",
     "output_type": "stream",
     "text": [
      "Please enter the starting point :1\n",
      "Please enter the ending point : 100\n",
      "Disarium numbers between 1 and 100 are : \n",
      "[1, 2, 3, 4, 5, 6, 7, 8, 9, 89]\n"
     ]
    }
   ],
   "source": [
    "def disarium_range(start,end):\n",
    "    list1 = []\n",
    "    for num in range(start, end+1):\n",
    "        if disarium_num(num):\n",
    "            list1.append(num)\n",
    "        else:\n",
    "            continue\n",
    "    print(f'Disarium numbers between {start} and {end} are : \\n{list1}')\n",
    "    \n",
    "if __name__=='__main__':\n",
    "    start = int(input('Please enter the starting point :'))\n",
    "    end = int(input('Please enter the ending point : '))\n",
    "    disarium_range(start,end)"
   ]
  },
  {
   "cell_type": "markdown",
   "metadata": {},
   "source": [
    "# Write a Python program to check if the given number is Happy Number?"
   ]
  },
  {
   "cell_type": "code",
   "execution_count": 17,
   "metadata": {},
   "outputs": [
    {
     "name": "stdout",
     "output_type": "stream",
     "text": [
      "Enter a number : 370\n",
      "370 number is not a happy number\n"
     ]
    }
   ],
   "source": [
    "def happy_num(num):\n",
    "    s_num = str(num)\n",
    "    flag = False\n",
    "    while len(s_num)!= 1:\n",
    "        sum1 = 0\n",
    "        for a in s_num:\n",
    "            sum1 += int(a)**2\n",
    "        if sum1 == 1:\n",
    "            flag = True\n",
    "            break\n",
    "        else:\n",
    "            s_num = str(sum1)\n",
    "    return flag\n",
    "\n",
    "if __name__== '__main__':\n",
    "    num = int(input('Enter a number : '))\n",
    "    if happy_num(num):\n",
    "        print(f'{num} number is a happy number')\n",
    "    else:\n",
    "        print(f'{num} number is not a happy number')"
   ]
  },
  {
   "cell_type": "markdown",
   "metadata": {},
   "source": [
    "# Write a Python program to print all happy numbers between 1 and 100?"
   ]
  },
  {
   "cell_type": "code",
   "execution_count": 18,
   "metadata": {},
   "outputs": [
    {
     "name": "stdout",
     "output_type": "stream",
     "text": [
      "Please enter the starting point :1\n",
      "Please enter the ending point : 100\n",
      "Happy numbers between 1 and 100 are : \n",
      "[10, 13, 19, 23, 28, 31, 32, 44, 49, 68, 70, 79, 82, 86, 91, 94, 97, 100]\n"
     ]
    }
   ],
   "source": [
    "def happy_range(start,end):\n",
    "    list1 = []\n",
    "    for num in range(start, end+1):\n",
    "        if happy_num(num):\n",
    "            list1.append(num)\n",
    "        else:\n",
    "            continue\n",
    "    print(f'Happy numbers between {start} and {end} are : \\n{list1}')\n",
    "    \n",
    "if __name__=='__main__':\n",
    "    start = int(input('Please enter the starting point :'))\n",
    "    end = int(input('Please enter the ending point : '))\n",
    "    happy_range(start,end)"
   ]
  },
  {
   "cell_type": "markdown",
   "metadata": {},
   "source": [
    "# Write a Python program to determine whether the given number is a Harshad Number?"
   ]
  },
  {
   "cell_type": "code",
   "execution_count": 20,
   "metadata": {},
   "outputs": [
    {
     "name": "stdout",
     "output_type": "stream",
     "text": [
      "Enter a number : 123\n",
      "123 number is not a harshad number\n"
     ]
    }
   ],
   "source": [
    "def isHarshad(num):\n",
    "    sum1 =0\n",
    "    s_num = str(num)\n",
    "    for a in s_num:\n",
    "        sum1 += int(a)\n",
    "    if num % sum1 == 0:\n",
    "        return True\n",
    "    else:\n",
    "        return False\n",
    "    \n",
    "if __name__== '__main__':\n",
    "    num = int(input('Enter a number : '))\n",
    "    if isHarshad(num):\n",
    "        print(f'{num} number is a harshad number')\n",
    "    else:\n",
    "        print(f'{num} number is not a harshad number')"
   ]
  },
  {
   "cell_type": "markdown",
   "metadata": {},
   "source": [
    "# Write a Python program to print all pronic numbers between 1 and 100?"
   ]
  },
  {
   "cell_type": "code",
   "execution_count": 21,
   "metadata": {},
   "outputs": [
    {
     "name": "stdout",
     "output_type": "stream",
     "text": [
      "Please enter the starting point :1\n",
      "Please enter the ending point : 100\n"
     ]
    },
    {
     "ename": "TypeError",
     "evalue": "isHarshad() takes 1 positional argument but 2 were given",
     "output_type": "error",
     "traceback": [
      "\u001b[1;31m---------------------------------------------------------------------------\u001b[0m",
      "\u001b[1;31mTypeError\u001b[0m                                 Traceback (most recent call last)",
      "\u001b[1;32m<ipython-input-21-442662b94fb0>\u001b[0m in \u001b[0;36m<module>\u001b[1;34m\u001b[0m\n\u001b[0;32m     11\u001b[0m     \u001b[0mstart\u001b[0m \u001b[1;33m=\u001b[0m \u001b[0mint\u001b[0m\u001b[1;33m(\u001b[0m\u001b[0minput\u001b[0m\u001b[1;33m(\u001b[0m\u001b[1;34m'Please enter the starting point :'\u001b[0m\u001b[1;33m)\u001b[0m\u001b[1;33m)\u001b[0m\u001b[1;33m\u001b[0m\u001b[1;33m\u001b[0m\u001b[0m\n\u001b[0;32m     12\u001b[0m     \u001b[0mend\u001b[0m \u001b[1;33m=\u001b[0m \u001b[0mint\u001b[0m\u001b[1;33m(\u001b[0m\u001b[0minput\u001b[0m\u001b[1;33m(\u001b[0m\u001b[1;34m'Please enter the ending point : '\u001b[0m\u001b[1;33m)\u001b[0m\u001b[1;33m)\u001b[0m\u001b[1;33m\u001b[0m\u001b[1;33m\u001b[0m\u001b[0m\n\u001b[1;32m---> 13\u001b[1;33m     \u001b[0misHarshad\u001b[0m\u001b[1;33m(\u001b[0m\u001b[0mstart\u001b[0m\u001b[1;33m,\u001b[0m\u001b[0mend\u001b[0m\u001b[1;33m)\u001b[0m\u001b[1;33m\u001b[0m\u001b[1;33m\u001b[0m\u001b[0m\n\u001b[0m",
      "\u001b[1;31mTypeError\u001b[0m: isHarshad() takes 1 positional argument but 2 were given"
     ]
    }
   ],
   "source": [
    "def isHarshad_range(start,end):\n",
    "    list1 = []\n",
    "    for num in range(start, end+1):\n",
    "        if isHarshad(num):\n",
    "            list1.append(num)\n",
    "        else:\n",
    "            continue\n",
    "    print(f'Happy numbers between {start} and {end} are : \\n{list1}')\n",
    "    \n",
    "if __name__=='__main__':\n",
    "    start = int(input('Please enter the starting point :'))\n",
    "    end = int(input('Please enter the ending point : '))\n",
    "    isHarshad_range(start,end)"
   ]
  }
 ],
 "metadata": {
  "kernelspec": {
   "display_name": "Python 3",
   "language": "python",
   "name": "python3"
  },
  "language_info": {
   "codemirror_mode": {
    "name": "ipython",
    "version": 3
   },
   "file_extension": ".py",
   "mimetype": "text/x-python",
   "name": "python",
   "nbconvert_exporter": "python",
   "pygments_lexer": "ipython3",
   "version": "3.7.6"
  }
 },
 "nbformat": 4,
 "nbformat_minor": 4
}
