{
 "cells": [
  {
   "cell_type": "code",
   "execution_count": 4,
   "metadata": {},
   "outputs": [
    {
     "name": "stdout",
     "output_type": "stream",
     "text": [
      "Enter the element in the list: ayush aditi priya amartya sani shashi vishal anirudh5\n",
      "Enter the threshold value for word length : 5\n",
      "List of words who are crossing the threshold : ['amartya', 'shashi', 'vishal', 'anirudh5']\n"
     ]
    }
   ],
   "source": [
    "def word_finder(list1,k):\n",
    "    new_list = []\n",
    "    for word in list1:\n",
    "        if len(word)> int(k):\n",
    "            new_list.append(word)\n",
    "        else:\n",
    "            continue\n",
    "    return new_list\n",
    "\n",
    "if __name__ == '__main__':\n",
    "    list1 = [i for i in input('Enter the element in the list: ').split()]\n",
    "    k = int(input('Enter the threshold value for word length : '))\n",
    "    result = word_finder(list1,k)\n",
    "    print(f'List of words who are crossing the threshold : {result}')"
   ]
  },
  {
   "cell_type": "code",
   "execution_count": 18,
   "metadata": {},
   "outputs": [
    {
     "name": "stdout",
     "output_type": "stream",
     "text": [
      "Enter the string : mynameisayushgupta\n",
      "Enter the ith value you want to remove from the string : 4\n",
      "New string after removing the 4th charecter from string : mynmeisayushgupta\n"
     ]
    }
   ],
   "source": [
    "def reove_chr(string,i):\n",
    "    new_string = string[:i-1] + string[i:]\n",
    "    return new_string\n",
    "\n",
    "if __name__ == '__main__':\n",
    "    string = input('Enter the string : ')\n",
    "    k = int(input('Enter the ith value you want to remove from the string : '))\n",
    "    result = reove_chr(string,k)\n",
    "    print(f'New string after removing the {k}th charecter from string : {result}')"
   ]
  },
  {
   "cell_type": "code",
   "execution_count": 20,
   "metadata": {},
   "outputs": [
    {
     "name": "stdout",
     "output_type": "stream",
     "text": [
      "Enter the string : my name is ayush gupta\n",
      "New string after split and join operation : my-name-is-ayush-gupta\n"
     ]
    }
   ],
   "source": [
    "def split_join(string):\n",
    "    new_string = '-'.join(string.split())\n",
    "    return new_string\n",
    "\n",
    "if __name__ == '__main__':\n",
    "    string = input('Enter the string : ')\n",
    "    result = split_join(string)\n",
    "    print(f'New string after split and join operation : {result}')"
   ]
  },
  {
   "cell_type": "code",
   "execution_count": 75,
   "metadata": {},
   "outputs": [
    {
     "name": "stdout",
     "output_type": "stream",
     "text": [
      "Enter the string : agvdcvhdfuakbfk\n",
      "agvdcvhdfuakbfk is not a binary string\n"
     ]
    }
   ],
   "source": [
    "def isBinaryString(string):\n",
    "    set_string = set(string)\n",
    "    set1 = {'0','1'}\n",
    "    if set_string == {'0','1'} or set_string == {'0'} or set_string == {'1'}:\n",
    "        return True\n",
    "    else:\n",
    "        return False\n",
    "\n",
    "if __name__ == '__main__':\n",
    "    string = input('Enter the string : ')\n",
    "    if isBinaryString(string):\n",
    "        print(f'{string} is a binary string')\n",
    "    else:\n",
    "        print(f'{string} is not a binary string')"
   ]
  },
  {
   "cell_type": "code",
   "execution_count": 86,
   "metadata": {},
   "outputs": [
    {
     "name": "stdout",
     "output_type": "stream",
     "text": [
      "Enter the string1 : my name is Ayush\n",
      "Enter the string2 : Also my name is Lucky\n",
      "uncommon words from both of the strings are : ['Ayush', 'Also', 'Lucky']\n"
     ]
    }
   ],
   "source": [
    "def uncommon_word(string1,string2):\n",
    "    count = {}\n",
    "    for word in string1.split():\n",
    "        count[word] = count.get(word,0) + 1\n",
    "        \n",
    "    for word in string2.split():\n",
    "        count[word] = count.get(word,0) + 1\n",
    "        \n",
    "    return [word for word in count if count[word] == 1]\n",
    "\n",
    "if __name__ == '__main__':\n",
    "    string1 = input('Enter the string1 : ')\n",
    "    string2 = input('Enter the string2 : ')\n",
    "    result = uncommon_word(string1,string2)\n",
    "    print(f'uncommon words from both of the strings are : {result}')"
   ]
  },
  {
   "cell_type": "code",
   "execution_count": 89,
   "metadata": {},
   "outputs": [
    {
     "name": "stdout",
     "output_type": "stream",
     "text": [
      "Enter the string : writeapythonzprogramtofindwordwhicharegreaterthangivenlength\n",
      "list of duplicate characters in string  : ['w', 'r', 'i', 't', 'e', 'a', 'p', 'h', 'o', 'n', 'g', 'd']\n"
     ]
    }
   ],
   "source": [
    "def duplicate_char(string):\n",
    "    count = {}\n",
    "    for char in string:\n",
    "        count[char] = count.get(char,0)+1\n",
    "    return [char for char in count if count[char]>1]\n",
    "\n",
    "if __name__ == '__main__':\n",
    "    string1 = input('Enter the string : ')\n",
    "    result = duplicate_char(string1)\n",
    "    print(f'list of duplicate characters in string : {result}')"
   ]
  },
  {
   "cell_type": "code",
   "execution_count": 88,
   "metadata": {},
   "outputs": [
    {
     "name": "stdout",
     "output_type": "stream",
     "text": [
      "Geeks\n",
      "0\n",
      "for\n",
      "0\n",
      "Geeks\n",
      "1\n",
      "{'Geeks': 2, 'for': 1, 'Learning': 1, 'from': 1}\n"
     ]
    },
    {
     "data": {
      "text/plain": [
       "['for', 'Learning', 'from']"
      ]
     },
     "execution_count": 88,
     "metadata": {},
     "output_type": "execute_result"
    }
   ],
   "source": [
    "\n"
   ]
  },
  {
   "cell_type": "code",
   "execution_count": null,
   "metadata": {},
   "outputs": [],
   "source": []
  },
  {
   "cell_type": "code",
   "execution_count": null,
   "metadata": {},
   "outputs": [],
   "source": []
  },
  {
   "cell_type": "code",
   "execution_count": null,
   "metadata": {},
   "outputs": [],
   "source": []
  },
  {
   "cell_type": "code",
   "execution_count": null,
   "metadata": {},
   "outputs": [],
   "source": []
  }
 ],
 "metadata": {
  "kernelspec": {
   "display_name": "Python 3",
   "language": "python",
   "name": "python3"
  },
  "language_info": {
   "codemirror_mode": {
    "name": "ipython",
    "version": 3
   },
   "file_extension": ".py",
   "mimetype": "text/x-python",
   "name": "python",
   "nbconvert_exporter": "python",
   "pygments_lexer": "ipython3",
   "version": "3.7.6"
  }
 },
 "nbformat": 4,
 "nbformat_minor": 4
}
