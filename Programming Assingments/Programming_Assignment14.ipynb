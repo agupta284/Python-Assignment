{
 "cells": [
  {
   "cell_type": "code",
   "execution_count": null,
   "metadata": {},
   "outputs": [],
   "source": [
    "def div_by_7(start,stop):\n",
    "    for num in range(start,stop+1):\n",
    "        if num%7 == 0:\n",
    "            yield num\n",
    "            \n",
    "start = int(input('Enter the starting point: '))\n",
    "stop = int(input('Enter the ending point: '))\n",
    "for i in div_by_7(start,stop):\n",
    "    print(i)"
   ]
  },
  {
   "cell_type": "code",
   "execution_count": 16,
   "metadata": {},
   "outputs": [
    {
     "data": {
      "text/plain": [
       "{'2': 2,\n",
       " '3.': 1,\n",
       " '3?': 1,\n",
       " 'New': 1,\n",
       " 'Python': 5,\n",
       " 'Read': 1,\n",
       " 'and': 1,\n",
       " 'between': 1,\n",
       " 'choosing': 1,\n",
       " 'or': 2,\n",
       " 'to': 1}"
      ]
     },
     "execution_count": 16,
     "metadata": {},
     "output_type": "execute_result"
    }
   ],
   "source": [
    "def word_occurance(string):\n",
    "    s_list = string.split()\n",
    "    s_list1 = list(set(s_list))\n",
    "    s_list1.sort(key = str)\n",
    "    s_dict = {}\n",
    "    for word in s_list1:\n",
    "        s_dict[word] = s_list.count(word)\n",
    "    return s_dict\n",
    "        \n",
    "string = 'New to Python or choosing between Python 2 and Python 3? Read Python 2 or Python 3.'\n",
    "word_occurance(string)"
   ]
  },
  {
   "cell_type": "code",
   "execution_count": 27,
   "metadata": {},
   "outputs": [
    {
     "data": {
      "text/plain": [
       "'Male'"
      ]
     },
     "execution_count": 27,
     "metadata": {},
     "output_type": "execute_result"
    }
   ],
   "source": [
    "class Person:\n",
    "    def __init__(self,gender):\n",
    "        self.gender = gender\n",
    "        \n",
    "    def getGender(self):\n",
    "        return self.gender\n",
    "\n",
    "class Male(Person):\n",
    "    def __init__(self):\n",
    "        self.gender = 'Male'\n",
    "        \n",
    "class Female(Person):\n",
    "    def __init__(self):\n",
    "        self.gender = 'Female'\n",
    "        \n",
    "obj = Male()\n",
    "obj.getGender()"
   ]
  },
  {
   "cell_type": "code",
   "execution_count": 29,
   "metadata": {},
   "outputs": [
    {
     "name": "stdout",
     "output_type": "stream",
     "text": [
      "I Play Hockey\n",
      "You Love Football\n"
     ]
    }
   ],
   "source": [
    "def sentence_gen(subject,verb,objet):\n",
    "    for i in range(len(verb)):\n",
    "        sen = subject[i] + ' ' +verb[i]+' ' + objet[i]\n",
    "        yield sen\n",
    "    \n",
    "subject = [\"I\",'You']\n",
    "verb = ['Play','Love']\n",
    "objet = ['Hockey','Football']\n",
    "for i in sentence_gen(subject,verb,objet):\n",
    "    print(i)"
   ]
  },
  {
   "cell_type": "code",
   "execution_count": 34,
   "metadata": {},
   "outputs": [
    {
     "name": "stdout",
     "output_type": "stream",
     "text": [
      "Original string : b'Hello World!Hello World!Hello World!Hello World!Hello World!' and length : 60\n",
      "String after compress : b'x\\x9c\\xf3H\\xcd\\xc9\\xc9W\\x08\\xcf/\\xcaIQ\\xf4 \\x91\\r\\x00\\x8a#\\x152' and length : 23\n",
      "String after decompress : b'Hello World!Hello World!Hello World!Hello World!Hello World!' and length : 60\n"
     ]
    }
   ],
   "source": [
    "import zlib\n",
    "def compress_decompress(string):\n",
    "    print(f'Original string : {string} and length : {len(string)}')\n",
    "    compress = zlib.compress(string)\n",
    "    print(f'String after compress : {compress} and length : {len(compress)}')\n",
    "    decompress = zlib.decompress(compress)\n",
    "    print(f'String after decompress : {decompress} and length : {len(decompress)}')\n",
    "    \n",
    "string = b'Hello World!'*5\n",
    "compress_decompress(string)"
   ]
  },
  {
   "cell_type": "code",
   "execution_count": 59,
   "metadata": {},
   "outputs": [
    {
     "name": "stdout",
     "output_type": "stream",
     "text": [
      "Enter the number you want to search in list: 88\n",
      "88 is not there in the list\n"
     ]
    }
   ],
   "source": [
    "def binary_search(list1,a):\n",
    "    low = 0\n",
    "    high = len(list1)-1\n",
    "    \n",
    "    while low <= high :\n",
    "        mid = (low + high)//2\n",
    "        if list1[mid] == a:\n",
    "            return mid\n",
    "        \n",
    "        elif list1[mid] > a:\n",
    "            high = mid - 1\n",
    "            \n",
    "        else:\n",
    "            low = mid+ 1\n",
    "    \n",
    "    return -1\n",
    "\n",
    "list1 = [12,23,45,76,87,98,103,105,112,145]\n",
    "a = int(input('Enter the number you want to search in list: '))\n",
    "res = binary_search(list1,a)\n",
    "if res != -1:\n",
    "    print(f'Index value for {a} in the list is : {res}')\n",
    "else:\n",
    "    print(f'{a} is not there in the list')"
   ]
  }
 ],
 "metadata": {
  "kernelspec": {
   "display_name": "Python 3",
   "language": "python",
   "name": "python3"
  },
  "language_info": {
   "codemirror_mode": {
    "name": "ipython",
    "version": 3
   },
   "file_extension": ".py",
   "mimetype": "text/x-python",
   "name": "python",
   "nbconvert_exporter": "python",
   "pygments_lexer": "ipython3",
   "version": "3.7.6"
  }
 },
 "nbformat": 4,
 "nbformat_minor": 4
}
