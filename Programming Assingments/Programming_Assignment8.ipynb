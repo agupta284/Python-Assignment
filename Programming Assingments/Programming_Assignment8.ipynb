{
 "cells": [
  {
   "cell_type": "markdown",
   "metadata": {},
   "source": [
    "# Matrix addition"
   ]
  },
  {
   "cell_type": "code",
   "execution_count": null,
   "metadata": {},
   "outputs": [],
   "source": [
    "def mat_addition(x,y):\n",
    "    result = [list(map(sum,zip(*t))) for t in zip(x,y)]\n",
    "    return result\n",
    "    \n",
    "if __name__ == \"__main__\":\n",
    "    row = int(input('enter num of rows: '))\n",
    "    col = int(input('enter num of col: '))\n",
    "\n",
    "    mat1 = [[int(input('Enter values for matrix 1 : ')) for i in range(col)] for j in range(row)]\n",
    "    mat2 = [[int(input('Enter values for matrix 2 : ')) for i in range(col)] for j in range(row)]\n",
    "    add = mat_addition(mat1,mat2)\n",
    "    print('Matrix addition : ')\n",
    "    for i in range(row):\n",
    "        for j in range(col):\n",
    "            print(format(add[i][j],\"<3\"),end='')\n",
    "        print()"
   ]
  },
  {
   "cell_type": "markdown",
   "metadata": {},
   "source": [
    "# Matrix multipliction"
   ]
  },
  {
   "cell_type": "code",
   "execution_count": null,
   "metadata": {},
   "outputs": [],
   "source": [
    "def mat_mul(x,y):\n",
    "    mult = [[0 for i in range(len(y[0]))] for j in range(len(x))]\n",
    "    print(mult)\n",
    "    for i in range(len(x)):\n",
    "        for j in range(len(y[0])):\n",
    "            for k in range(len(y)):\n",
    "                mult[i][j] += x[i][k] * y[k][j]\n",
    "    return mult\n",
    "\n",
    "if __name__ == \"__main__\":\n",
    "    i = int(input('Enter num of rows for first matrix: '))\n",
    "    j = int(input('Enter the num of column for first matrix: '))\n",
    "    k = int(input('Enter the num of column for the second matrix : '))\n",
    "\n",
    "    mat1 = [[int(input('Enter values for matrix 1 : ')) for a in range(j)] for b in range(i)]\n",
    "    print(mat1)\n",
    "    mat2 = [[int(input('Enter values for matrix 2 : ')) for a in range(k)] for b in range(j)]\n",
    "    print(mat2)\n",
    "    result = mat_mul(mat1,mat2)\n",
    "    print('Matrix Multiplication : ')\n",
    "    for i in range(i):\n",
    "        for j in range(k):\n",
    "            print(format(result[i][j],\"4\"),end='')\n",
    "        print()\n"
   ]
  },
  {
   "cell_type": "markdown",
   "metadata": {},
   "source": [
    "# Matrix transpose"
   ]
  },
  {
   "cell_type": "code",
   "execution_count": null,
   "metadata": {},
   "outputs": [],
   "source": [
    "def mat_tran(x):\n",
    "    mat = [[0 for i in range(len(x))] for j in range(len(x[0]))]\n",
    "    for i in range(len(x)):\n",
    "        for j in range(len(x[0])):\n",
    "            mat[j][i] = x[i][j]\n",
    "    return mat\n",
    "\n",
    "if __name__=='__main__':\n",
    "    row = int(input('enter num of rows: '))\n",
    "    col = int(input('enter num of col: '))\n",
    "    \n",
    "    mat1 = [[int(input('Enter the numbers for matrix :')) for i in range(col)] for j in range(row)]\n",
    "    result = mat_tran(mat1)\n",
    "    for i in range(col):\n",
    "        for j in range(row):\n",
    "            print(format(result[i][j],\"4\"),end='')\n",
    "        print()"
   ]
  },
  {
   "cell_type": "markdown",
   "metadata": {},
   "source": [
    "# Word sorting"
   ]
  },
  {
   "cell_type": "code",
   "execution_count": null,
   "metadata": {},
   "outputs": [],
   "source": [
    "def word_sort(word):\n",
    "    w_list = [i for i in word]\n",
    "    w_list.sort()\n",
    "    sorted_word = ''\n",
    "    for i in w_list:\n",
    "        sorted_word += i\n",
    "    return sorted_word\n",
    "\n",
    "if __name__=='__main__':\n",
    "    word = input('Enter a word :')\n",
    "    result = word_sort(word)\n",
    "    print(f'Sorted form of the {word} will be {result}')\n"
   ]
  },
  {
   "cell_type": "markdown",
   "metadata": {},
   "source": [
    "# Remove punctuation from a string"
   ]
  },
  {
   "cell_type": "code",
   "execution_count": null,
   "metadata": {},
   "outputs": [],
   "source": [
    "def remv_punc(string):\n",
    "    result = ''\n",
    "    for i in string:\n",
    "        if (ord(i)>96 and ord(i)<123) or (ord(i)>64 and ord(i)<91) or ord(i) == 32:\n",
    "            result += i\n",
    "        else:\n",
    "            continue\n",
    "    return result\n",
    "\n",
    "if __name__=='__main__':\n",
    "    string = input('Enter a string: ')\n",
    "    result = remv_punc(string)\n",
    "    print('After removing puctuation from string : ',result)"
   ]
  },
  {
   "cell_type": "code",
   "execution_count": null,
   "metadata": {},
   "outputs": [],
   "source": [
    "ord(' ')"
   ]
  }
 ],
 "metadata": {
  "kernelspec": {
   "display_name": "Python 3",
   "language": "python",
   "name": "python3"
  },
  "language_info": {
   "codemirror_mode": {
    "name": "ipython",
    "version": 3
   },
   "file_extension": ".py",
   "mimetype": "text/x-python",
   "name": "python",
   "nbconvert_exporter": "python",
   "pygments_lexer": "ipython3",
   "version": "3.7.6"
  }
 },
 "nbformat": 4,
 "nbformat_minor": 4
}
