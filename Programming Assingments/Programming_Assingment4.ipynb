{
 "cells": [
  {
   "cell_type": "markdown",
   "metadata": {},
   "source": [
    "# Write a Python Program to Find the Factorial of a Number"
   ]
  },
  {
   "cell_type": "code",
   "execution_count": 1,
   "metadata": {},
   "outputs": [
    {
     "name": "stdout",
     "output_type": "stream",
     "text": [
      "Enter the number :8\n",
      "Factorial of  8  is:  40320\n"
     ]
    }
   ],
   "source": [
    "def factorial(num):\n",
    "    if num>1:\n",
    "        return num*factorial(num-1)\n",
    "    else:\n",
    "        return 1\n",
    "\n",
    "num  = int(input(\"Enter the number :\"))\n",
    "print('Factorial of ', num,' is: ',factorial(num))"
   ]
  },
  {
   "cell_type": "markdown",
   "metadata": {},
   "source": [
    "# Write a Python Program to Display the multiplication Table"
   ]
  },
  {
   "cell_type": "code",
   "execution_count": 2,
   "metadata": {},
   "outputs": [
    {
     "name": "stdout",
     "output_type": "stream",
     "text": [
      "Enter the number :13\n",
      "Multiplication table for number  13\n",
      "13 * 1 = 13\n",
      "13 * 2 = 26\n",
      "13 * 3 = 39\n",
      "13 * 4 = 52\n",
      "13 * 5 = 65\n",
      "13 * 6 = 78\n",
      "13 * 7 = 91\n",
      "13 * 8 = 104\n",
      "13 * 9 = 117\n",
      "13 * 10 = 130\n"
     ]
    }
   ],
   "source": [
    "def mul_table(num):\n",
    "    print('Multiplication table for number ', num )\n",
    "    for i in range(1,10+1):\n",
    "        print('{} * {} = {}'.format(num,i,num*i))\n",
    "\n",
    "num  = int(input(\"Enter the number :\"))\n",
    "mul_table(num)"
   ]
  },
  {
   "cell_type": "markdown",
   "metadata": {},
   "source": [
    "# Write a Python Program to Print the Fibonacci sequence"
   ]
  },
  {
   "cell_type": "code",
   "execution_count": 4,
   "metadata": {},
   "outputs": [
    {
     "name": "stdout",
     "output_type": "stream",
     "text": [
      "Enter the number :15\n",
      "0\n",
      "1\n",
      "1\n",
      "2\n",
      "3\n",
      "5\n",
      "8\n",
      "13\n",
      "21\n",
      "34\n",
      "55\n",
      "89\n",
      "144\n",
      "233\n",
      "377\n"
     ]
    }
   ],
   "source": [
    "def fibonacci(num):\n",
    "    a = 0\n",
    "    b = 1\n",
    "    i=0\n",
    "    while i<num:\n",
    "        print(a)\n",
    "        a,b = b,a+b\n",
    "        i+=1\n",
    "\n",
    "num  = int(input(\"Enter the number :\"))\n",
    "fibonacci(num)"
   ]
  },
  {
   "cell_type": "markdown",
   "metadata": {},
   "source": [
    "# Write a Python Program to Check Armstrong Number"
   ]
  },
  {
   "cell_type": "code",
   "execution_count": 5,
   "metadata": {},
   "outputs": [
    {
     "name": "stdout",
     "output_type": "stream",
     "text": [
      "Please enter the number you want to check :3456\n",
      "3456 is not an armstrong number\n"
     ]
    }
   ],
   "source": [
    "def chk_armstrong(num):\n",
    "    sum = 0\n",
    "    for i in str(num):\n",
    "        sum += int(i)**len(str(num))\n",
    "    if sum == num:\n",
    "        return True\n",
    "    else:\n",
    "        return False\n",
    "    \n",
    "num = int(input('Please enter the number you want to check :'))\n",
    "if chk_armstrong(num):\n",
    "    print(f'{num} is an armstrong number')\n",
    "else:\n",
    "    print(f'{num} is not an armstrong number')\n"
   ]
  },
  {
   "cell_type": "markdown",
   "metadata": {},
   "source": [
    "# Write a Python Program to Find Armstrong Number in an Interval"
   ]
  },
  {
   "cell_type": "code",
   "execution_count": 6,
   "metadata": {},
   "outputs": [
    {
     "name": "stdout",
     "output_type": "stream",
     "text": [
      "Please enter the interval seperated by comma :200,2000\n",
      "List of armstrong number in given interval is [370, 371, 407, 1634]\n"
     ]
    }
   ],
   "source": [
    "def interval_armstrong(start, stop):\n",
    "    list1 = []\n",
    "    for i in range (start,stop+1):\n",
    "        if chk_armstrong(i):\n",
    "            list1.append(i)\n",
    "        else:\n",
    "            continue\n",
    "    return list1\n",
    "\n",
    "start,stop = [int(x) for x in input('Please enter the interval seperated by comma :').split(',')]\n",
    "arm_list = interval_armstrong(start,stop)\n",
    "if len(arm_list)>0:\n",
    "    print(f'List of armstrong number in given interval is {arm_list}')\n",
    "else:\n",
    "    print('There are no armstrong number in given interval')\n",
    "    "
   ]
  },
  {
   "cell_type": "markdown",
   "metadata": {},
   "source": [
    "# Write a Python Program to Find the Sum of Natural Numbers"
   ]
  },
  {
   "cell_type": "code",
   "execution_count": 7,
   "metadata": {},
   "outputs": [
    {
     "name": "stdout",
     "output_type": "stream",
     "text": [
      "Upto which natural number you want to calculate the sum :21\n",
      "Sum of first 21 natural numbers is : 231.0\n"
     ]
    }
   ],
   "source": [
    "def natural_sum(num):\n",
    "    return num*(num+1)/2\n",
    "\n",
    "num = int(input('Upto which natural number you want to calculate the sum :'))\n",
    "print(f\"Sum of first {num} natural numbers is : {natural_sum(num)}\")"
   ]
  }
 ],
 "metadata": {
  "kernelspec": {
   "display_name": "Python 3",
   "language": "python",
   "name": "python3"
  },
  "language_info": {
   "codemirror_mode": {
    "name": "ipython",
    "version": 3
   },
   "file_extension": ".py",
   "mimetype": "text/x-python",
   "name": "python",
   "nbconvert_exporter": "python",
   "pygments_lexer": "ipython3",
   "version": "3.8.5"
  }
 },
 "nbformat": 4,
 "nbformat_minor": 4
}
