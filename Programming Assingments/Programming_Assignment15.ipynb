{
 "cells": [
  {
   "cell_type": "code",
   "execution_count": null,
   "metadata": {},
   "outputs": [],
   "source": [
    "def div_by_5_7(n):\n",
    "    for num in range(n):\n",
    "        if num%5 == 0:\n",
    "            if num%7 == 0:\n",
    "                yield num\n",
    "\n",
    "n = int(input('Enter the value of n : '))\n",
    "list1 = []\n",
    "for i in div_by_5_7(n):\n",
    "    list1.append(str(i))\n",
    "print(','.join(list1))\n"
   ]
  },
  {
   "cell_type": "code",
   "execution_count": null,
   "metadata": {},
   "outputs": [],
   "source": [
    "def even_gen(n):\n",
    "    for num in range(n):\n",
    "        if num%2 == 0:\n",
    "            yield num\n",
    "\n",
    "n = int(input('Enter the value of n : '))\n",
    "list1 = []\n",
    "for i in even_gen(n):\n",
    "    list1.append(str(i))\n",
    "print(','.join(list1))"
   ]
  },
  {
   "cell_type": "code",
   "execution_count": null,
   "metadata": {},
   "outputs": [],
   "source": [
    "n = int(input('Enter the number : '))\n",
    "fib = [0, 1]\n",
    "[fib.append(sum(fib[-2:])) for x in range(n)]\n",
    "temp = fib\n",
    "fib = [str(i) for i in temp]\n",
    "print(','.join(fib[:n]))"
   ]
  },
  {
   "cell_type": "code",
   "execution_count": null,
   "metadata": {},
   "outputs": [],
   "source": [
    "def username(email):\n",
    "    index = email.find('@')\n",
    "    return email[:index]\n",
    "\n",
    "email = input('Enter the email ID : ')\n",
    "print(f'Username : {username(email)}')"
   ]
  },
  {
   "cell_type": "code",
   "execution_count": null,
   "metadata": {},
   "outputs": [],
   "source": [
    "a = 'ayush@gmail.com'\n",
    "a.find('@')"
   ]
  },
  {
   "cell_type": "code",
   "execution_count": null,
   "metadata": {},
   "outputs": [],
   "source": [
    "class Shape():\n",
    "    def __init__(self,length):\n",
    "        self.length = length\n",
    "        \n",
    "    def area(self):\n",
    "        pass\n",
    "    \n",
    "class Square(Shape):\n",
    "    def __init__(self,length):\n",
    "        Shape.__init__(self,length)\n",
    "    \n",
    "    def area(self):\n",
    "        area = self.length**2\n",
    "        return area\n",
    "    \n",
    "obj = Square(int(input('Enter the length of the square: ')))\n",
    "obj.area()"
   ]
  }
 ],
 "metadata": {
  "kernelspec": {
   "display_name": "Python 3",
   "language": "python",
   "name": "python3"
  },
  "language_info": {
   "codemirror_mode": {
    "name": "ipython",
    "version": 3
   },
   "file_extension": ".py",
   "mimetype": "text/x-python",
   "name": "python",
   "nbconvert_exporter": "python",
   "pygments_lexer": "ipython3",
   "version": "3.7.6"
  }
 },
 "nbformat": 4,
 "nbformat_minor": 4
}
