{
 "cells": [
  {
   "cell_type": "code",
   "execution_count": 11,
   "metadata": {},
   "outputs": [
    {
     "name": "stdout",
     "output_type": "stream",
     "text": [
      "36\n"
     ]
    }
   ],
   "source": [
    "def item_sum(dic):\n",
    "    item = list(dic.values())\n",
    "    return sum(item)\n",
    "\n",
    "dic = {'a':11,'b':12,'c':13}\n",
    "print(item_sum(dic))"
   ]
  },
  {
   "cell_type": "code",
   "execution_count": 31,
   "metadata": {},
   "outputs": [
    {
     "data": {
      "text/plain": [
       "{'a': 11, 'b': 13, 'c': 13}"
      ]
     },
     "execution_count": 31,
     "metadata": {},
     "output_type": "execute_result"
    }
   ],
   "source": [
    "def dic_merge(dic1,dic2):\n",
    "    for key,item in dic2.items():\n",
    "        dic1[key] = item\n",
    "    return dic1\n",
    "\n",
    "dic1 = {'a':11,'b':12,'c':13}\n",
    "dic2 = {'a':11,'b':13,'c':13}\n",
    "dic_merge(dic1,dic2)"
   ]
  },
  {
   "cell_type": "code",
   "execution_count": 45,
   "metadata": {},
   "outputs": [
    {
     "name": "stdout",
     "output_type": "stream",
     "text": [
      "{3: 'Wed', 2: 'Tue', 4: 'Thu', 0: 'Sun', 1: 'Mon', 5: 'Fri', 6: 'Sat'}\n"
     ]
    }
   ],
   "source": [
    "def list_to_dic(list1):\n",
    "    res_dic = {}\n",
    "    for key,value in list1:\n",
    "        res_dic[key] = value\n",
    "    return res_dic\n",
    "\n",
    "list1 = [(3, 'Wed'), (2, 'Tue'),(4, 'Thu'),(0, 'Sun'), (1, 'Mon'),(5, 'Fri'), (6, 'Sat')]\n",
    "print(list_to_dic(list1))"
   ]
  },
  {
   "cell_type": "code",
   "execution_count": 44,
   "metadata": {},
   "outputs": [
    {
     "name": "stdout",
     "output_type": "stream",
     "text": [
      "OrderedDict([(0, 'Sun'), (1, 'Mon'), (2, 'Tue'), (3, 'Wed'), (4, 'Thu'), (5, 'Fri'), (6, 'Sat')])\n"
     ]
    }
   ],
   "source": [
    "from collections import OrderedDict\n",
    "\n",
    "def dict_insertion(dict1,list1):\n",
    "    dict1 = OrderedDict(dict1)\n",
    "    for key,value in list1:\n",
    "        dict1.update({key:value})\n",
    "        dict1.move_to_end(key,last=False)\n",
    "    return dict1\n",
    "\n",
    "list1 = [(1, 'Mon'),(0,'Sun')]\n",
    "dict1 = {2: 'Tue', 3: 'Wed', 4: 'Thu', 5: 'Fri', 6: 'Sat'}\n",
    "print(dict_insertion(dict1,list1))"
   ]
  },
  {
   "cell_type": "code",
   "execution_count": 43,
   "metadata": {},
   "outputs": [
    {
     "data": {
      "text/plain": [
       "'True'"
      ]
     },
     "execution_count": 43,
     "metadata": {},
     "output_type": "execute_result"
    }
   ],
   "source": [
    "from collections import OrderedDict \n",
    "  \n",
    "def checkOrder(input, pattern): \n",
    "    dict = OrderedDict.fromkeys(input) \n",
    "    ptrlen = 0\n",
    "    for key,value in dict.items(): \n",
    "        if (key == pattern[ptrlen]): \n",
    "            ptrlen = ptrlen + 1\n",
    "        \n",
    "        if (ptrlen == (len(pattern))): \n",
    "            return 'True'\n",
    "        \n",
    "    return 'False'\n",
    "\n",
    "checkOrder('itsapythonfunction','pyf')"
   ]
  },
  {
   "cell_type": "code",
   "execution_count": 54,
   "metadata": {},
   "outputs": [
    {
     "ename": "KeyError",
     "evalue": "'Fri'",
     "output_type": "error",
     "traceback": [
      "\u001b[1;31m---------------------------------------------------------------------------\u001b[0m",
      "\u001b[1;31mKeyError\u001b[0m                                  Traceback (most recent call last)",
      "\u001b[1;32m<ipython-input-54-d51702fd7eb8>\u001b[0m in \u001b[0;36m<module>\u001b[1;34m\u001b[0m\n\u001b[0;32m      8\u001b[0m \u001b[1;33m\u001b[0m\u001b[0m\n\u001b[0;32m      9\u001b[0m \u001b[0mdict1\u001b[0m \u001b[1;33m=\u001b[0m \u001b[1;33m{\u001b[0m\u001b[1;36m3\u001b[0m\u001b[1;33m:\u001b[0m \u001b[1;34m'Wed'\u001b[0m\u001b[1;33m,\u001b[0m \u001b[1;36m2\u001b[0m\u001b[1;33m:\u001b[0m \u001b[1;34m'Tue'\u001b[0m\u001b[1;33m,\u001b[0m \u001b[1;36m4\u001b[0m\u001b[1;33m:\u001b[0m \u001b[1;34m'Thu'\u001b[0m\u001b[1;33m,\u001b[0m \u001b[1;36m0\u001b[0m\u001b[1;33m:\u001b[0m \u001b[1;34m'Sun'\u001b[0m\u001b[1;33m,\u001b[0m \u001b[1;36m1\u001b[0m\u001b[1;33m:\u001b[0m \u001b[1;34m'Mon'\u001b[0m\u001b[1;33m,\u001b[0m \u001b[1;36m5\u001b[0m\u001b[1;33m:\u001b[0m \u001b[1;34m'Fri'\u001b[0m\u001b[1;33m,\u001b[0m \u001b[1;36m6\u001b[0m\u001b[1;33m:\u001b[0m \u001b[1;34m'Sat'\u001b[0m\u001b[1;33m}\u001b[0m\u001b[1;33m\u001b[0m\u001b[1;33m\u001b[0m\u001b[0m\n\u001b[1;32m---> 10\u001b[1;33m \u001b[0mdict_sort\u001b[0m\u001b[1;33m(\u001b[0m\u001b[0mdict1\u001b[0m\u001b[1;33m)\u001b[0m\u001b[1;33m\u001b[0m\u001b[1;33m\u001b[0m\u001b[0m\n\u001b[0m",
      "\u001b[1;32m<ipython-input-54-d51702fd7eb8>\u001b[0m in \u001b[0;36mdict_sort\u001b[1;34m(dict1)\u001b[0m\n\u001b[0;32m      4\u001b[0m     \u001b[0msort_dict\u001b[0m \u001b[1;33m=\u001b[0m \u001b[1;33m{\u001b[0m\u001b[1;33m}\u001b[0m\u001b[1;33m\u001b[0m\u001b[1;33m\u001b[0m\u001b[0m\n\u001b[0;32m      5\u001b[0m     \u001b[1;32mfor\u001b[0m \u001b[0mkey\u001b[0m \u001b[1;32min\u001b[0m \u001b[0mkey_list\u001b[0m\u001b[1;33m:\u001b[0m\u001b[1;33m\u001b[0m\u001b[1;33m\u001b[0m\u001b[0m\n\u001b[1;32m----> 6\u001b[1;33m         \u001b[0msort_dict\u001b[0m\u001b[1;33m[\u001b[0m\u001b[0mkey\u001b[0m\u001b[1;33m]\u001b[0m \u001b[1;33m=\u001b[0m \u001b[0mdict1\u001b[0m\u001b[1;33m[\u001b[0m\u001b[0mkey\u001b[0m\u001b[1;33m]\u001b[0m\u001b[1;33m\u001b[0m\u001b[1;33m\u001b[0m\u001b[0m\n\u001b[0m\u001b[0;32m      7\u001b[0m     \u001b[1;32mreturn\u001b[0m \u001b[0msort_dict\u001b[0m\u001b[1;33m\u001b[0m\u001b[1;33m\u001b[0m\u001b[0m\n\u001b[0;32m      8\u001b[0m \u001b[1;33m\u001b[0m\u001b[0m\n",
      "\u001b[1;31mKeyError\u001b[0m: 'Fri'"
     ]
    }
   ],
   "source": [
    "def dict_sort_by_keys(dict1):\n",
    "    key_list = list(dict1.keys())\n",
    "    key_list.sort()\n",
    "    sort_dict = {}\n",
    "    for key in key_list:\n",
    "        sort_dict[key] = dict1[key]\n",
    "    return sort_dict\n",
    "\n",
    "def dict_sort_by_values(dict1):\n",
    "    value_list = list(dict1.values())\n",
    "    value_list.sort()\n",
    "    sort_dict = {}\n",
    "    for value in value_list:\n",
    "        sort_dict[key] = dict1[key]\n",
    "    return sort_dict\n",
    "\n",
    "dict1 = {3: 'Wed', 2: 'Tue', 4: 'Thu', 0: 'Sun', 1: 'Mon', 5: 'Fri', 6: 'Sat'}\n",
    "dict_sort(dict1)"
   ]
  },
  {
   "cell_type": "code",
   "execution_count": 62,
   "metadata": {},
   "outputs": [
    {
     "data": {
      "text/plain": [
       "[3, 2, 4, 0, 1, 5, 6]"
      ]
     },
     "execution_count": 62,
     "metadata": {},
     "output_type": "execute_result"
    }
   ],
   "source": [
    "dict1 = {3: 'Wed', 2: 'Tue', 4: 'Thu', 0: 'Sun', 1: 'Mon', 5: 'Fri', 6: 'Sat'}\n",
    "list(dict1)"
   ]
  },
  {
   "cell_type": "code",
   "execution_count": null,
   "metadata": {},
   "outputs": [],
   "source": []
  }
 ],
 "metadata": {
  "kernelspec": {
   "display_name": "Python 3",
   "language": "python",
   "name": "python3"
  },
  "language_info": {
   "codemirror_mode": {
    "name": "ipython",
    "version": 3
   },
   "file_extension": ".py",
   "mimetype": "text/x-python",
   "name": "python",
   "nbconvert_exporter": "python",
   "pygments_lexer": "ipython3",
   "version": "3.7.6"
  }
 },
 "nbformat": 4,
 "nbformat_minor": 4
}
