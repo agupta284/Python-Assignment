{
 "cells": [
  {
   "cell_type": "code",
   "execution_count": 4,
   "metadata": {},
   "outputs": [
    {
     "name": "stdout",
     "output_type": "stream",
     "text": [
      "Enter the numbers you want to add(space seperated) :1 2 3 4 5 6 7 8 9\n",
      "Sum of the given numbers is : 45\n"
     ]
    }
   ],
   "source": [
    "def sum_of_list_elements(list1):\n",
    "    sum1 = 0\n",
    "    for num in list1:\n",
    "        sum1 += num\n",
    "    return sum1\n",
    "\n",
    "if __name__=='__main__':\n",
    "    list1 = [int(i) for i in (input('Enter the numbers you want to add(space seperated) :').split())]\n",
    "    result = sum_of_list_elements(list1)\n",
    "    print(f'Sum of the given numbers is : {result}')"
   ]
  },
  {
   "cell_type": "code",
   "execution_count": 5,
   "metadata": {},
   "outputs": [
    {
     "name": "stdout",
     "output_type": "stream",
     "text": [
      "Enter the numbers you want to multiply(space seperated) :2 3 4 5 6\n",
      "Multiplication of the given numbers is : 720\n"
     ]
    }
   ],
   "source": [
    "def mul_of_list_elements(list1):\n",
    "    mul = 1\n",
    "    for num in list1:\n",
    "        mul *= num\n",
    "    return mul\n",
    "\n",
    "if __name__=='__main__':\n",
    "    list1 = [int(i) for i in (input('Enter the numbers you want to multiply(space seperated) :').split())]\n",
    "    result = mul_of_list_elements(list1)\n",
    "    print(f'Multiplication of the given numbers is : {result}')"
   ]
  },
  {
   "cell_type": "code",
   "execution_count": 7,
   "metadata": {},
   "outputs": [
    {
     "name": "stdout",
     "output_type": "stream",
     "text": [
      "Enter the numbers (space seperated) :1.2 0.5 3 0 -1.3\n",
      "Smallest element in the given numbers is : -1.3\n"
     ]
    }
   ],
   "source": [
    "def min_in_list(list1):\n",
    "    min = list1[0]\n",
    "    for num in list1[1:]:\n",
    "        if num<min:\n",
    "            min = num\n",
    "        else:\n",
    "            continue\n",
    "    return min\n",
    "\n",
    "if __name__=='__main__':\n",
    "    list1 = [float(i) for i in (input('Enter the numbers (space seperated) :').split())]\n",
    "    result = min_in_list(list1)\n",
    "    print(f'Smallest element in the given numbers is : {result}')"
   ]
  },
  {
   "cell_type": "code",
   "execution_count": 9,
   "metadata": {},
   "outputs": [
    {
     "name": "stdout",
     "output_type": "stream",
     "text": [
      "Enter the numbers (space seperated) :123 434344 34345 56 6656  4565 67 674 53 434 6563  47  4  445 46 345\n",
      "Largest element in the given numbers is : 434344.0\n"
     ]
    }
   ],
   "source": [
    "def max_in_list(list1):\n",
    "    min = list1[0]\n",
    "    for num in list1[1:]:\n",
    "        if num>min:\n",
    "            min = num\n",
    "        else:\n",
    "            continue\n",
    "    return min\n",
    "\n",
    "if __name__=='__main__':\n",
    "    list1 = [float(i) for i in (input('Enter the numbers (space seperated) :').split())]\n",
    "    result = max_in_list(list1)\n",
    "    print(f'Largest element in the given numbers is : {result}')"
   ]
  },
  {
   "cell_type": "code",
   "execution_count": 18,
   "metadata": {},
   "outputs": [
    {
     "name": "stdout",
     "output_type": "stream",
     "text": [
      "Enter the numbers (space seperated) :123  45 6 543 46 76 54 9 876 544 678 765 45 678 765\n",
      "Enter the value of n for nth largest number: 15\n",
      "There is no 15th largest number\n"
     ]
    }
   ],
   "source": [
    "def nth_max_element(list1,n):\n",
    "    new_list = list(set(list1))\n",
    "    new_list.sort()\n",
    "    number = new_list[n-1]\n",
    "    return number\n",
    "\n",
    "\n",
    "if __name__=='__main__':\n",
    "    list1 = [float(i) for i in (input('Enter the numbers (space seperated) :').split())]\n",
    "    n = int(input('Enter the value of n for nth largest number: '))\n",
    "    if n > len(set(list1)):\n",
    "        print(f'There is no {n}th largest number')\n",
    "    else:\n",
    "        result = nth_max_element(list1,n)\n",
    "        if n == 1:\n",
    "            print(f'Largest element in the given numbers is : {result}')\n",
    "        elif n == 2:\n",
    "            print(f'2nd largest element in the given numbers is : {result}')\n",
    "        elif n == 3:\n",
    "            print(f'3rd largest element in the given numbers is : {result}')\n",
    "        else:\n",
    "            print(f'{n}th largest element in the given numbers is : {result}')\n",
    "        \n",
    "        "
   ]
  },
  {
   "cell_type": "code",
   "execution_count": 20,
   "metadata": {},
   "outputs": [
    {
     "name": "stdout",
     "output_type": "stream",
     "text": [
      "Enter the numbers (space seperated) :123  45 6 543 46 76 54 9 876 544 678 765 45 678 765\n",
      "Even numbers in given numbers are : [6, 46, 76, 54, 876, 544, 678, 678]\n"
     ]
    }
   ],
   "source": [
    "def even_num_list(list1):\n",
    "    even_list = [i for i in list1 if i%2==0]\n",
    "    return even_list\n",
    "\n",
    "if __name__=='__main__':\n",
    "    list1 = [int(i) for i in (input('Enter the numbers (space seperated) :').split())]\n",
    "    result = even_num_list(list1)\n",
    "    print(f'Even numbers in given numbers are : {result}')"
   ]
  },
  {
   "cell_type": "code",
   "execution_count": 21,
   "metadata": {},
   "outputs": [
    {
     "name": "stdout",
     "output_type": "stream",
     "text": [
      "Enter the numbers (space seperated) :123  45 6 543 46 76 54 9 876 544 678 765 45 678 765\n",
      "odd numbers in given numbers are : [123, 45, 543, 9, 765, 45, 765]\n"
     ]
    }
   ],
   "source": [
    "def odd_num_list(list1):\n",
    "    even_list = [i for i in list1 if i%2==1]\n",
    "    return even_list\n",
    "\n",
    "if __name__=='__main__':\n",
    "    list1 = [int(i) for i in (input('Enter the numbers (space seperated) :').split())]\n",
    "    result = odd_num_list(list1)\n",
    "    print(f'odd numbers in given numbers are : {result}')"
   ]
  },
  {
   "cell_type": "code",
   "execution_count": 22,
   "metadata": {},
   "outputs": [
    {
     "name": "stdout",
     "output_type": "stream",
     "text": [
      "New list after removing empty list from list : [[1, 2], [123, 345, 737], ['sfa', 'asd', 'f', 's', 'ffr', 'g'], [1]]\n"
     ]
    }
   ],
   "source": [
    "def remove_empty_list(list1):\n",
    "    even_list = [i for i in list1 if len(i)>0]\n",
    "    return even_list\n",
    "\n",
    "if __name__=='__main__':\n",
    "    list1 = [[1,2],[],[123,345,737],['sfa','asd','f','s','ffr','g'],[],[],[1]]\n",
    "    result = remove_empty_list(list1)\n",
    "    print(f'New list after removing empty list from list : {result}')"
   ]
  },
  {
   "cell_type": "code",
   "execution_count": 25,
   "metadata": {},
   "outputs": [
    {
     "name": "stdout",
     "output_type": "stream",
     "text": [
      "Clone list : [[1, 2], [], [123, 345, 737], ['sfa', 'asd', 'f', 's', 'ffr', 'g'], [], [], [1]]\n",
      "Input list : [[1, 2], [], [123, 345, 737], ['sfa', 'asd', 'f', 's', 'ffr', 'g'], [], [], [1]]\n"
     ]
    }
   ],
   "source": [
    "def clone_list(list1):\n",
    "    clone_list = [i for i in list1]\n",
    "    return (clone_list,list1)\n",
    "\n",
    "if __name__=='__main__':\n",
    "    list1 = [[1,2],[],[123,345,737],['sfa','asd','f','s','ffr','g'],[],[],[1]]\n",
    "    result = clone_list(list1)\n",
    "    print(f'Clone list : {result[0]}')\n",
    "    print(f'Input list : {result[1]}')"
   ]
  },
  {
   "cell_type": "code",
   "execution_count": 27,
   "metadata": {},
   "outputs": [
    {
     "name": "stdout",
     "output_type": "stream",
     "text": [
      "Enter the element in the list :123  45 6 543 46 76 54 9 876 544 678 765 45 678 765\n",
      "Enter the element for checking occurence count : 76\n",
      "Occurnce of 76 in list : 1\n"
     ]
    }
   ],
   "source": [
    "def count_occurence(list1,num):\n",
    "    count = 0\n",
    "    for i in list1:\n",
    "        if i == num:\n",
    "            count += 1\n",
    "        else:\n",
    "            continue\n",
    "    return count\n",
    "\n",
    "if __name__=='__main__':\n",
    "    list1 = [i for i in input('Enter the element in the list :').split()]\n",
    "    num = input('Enter the element for checking occurence count : ')\n",
    "    result = count_occurence(list1,num)\n",
    "    print(f'Occurnce of {num} in list : {result}')"
   ]
  }
 ],
 "metadata": {
  "kernelspec": {
   "display_name": "Python 3",
   "language": "python",
   "name": "python3"
  },
  "language_info": {
   "codemirror_mode": {
    "name": "ipython",
    "version": 3
   },
   "file_extension": ".py",
   "mimetype": "text/x-python",
   "name": "python",
   "nbconvert_exporter": "python",
   "pygments_lexer": "ipython3",
   "version": "3.7.6"
  }
 },
 "nbformat": 4,
 "nbformat_minor": 4
}
