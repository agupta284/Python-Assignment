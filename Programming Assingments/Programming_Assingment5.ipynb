{
 "cells": [
  {
   "cell_type": "markdown",
   "metadata": {},
   "source": [
    "# Write a Python Program to Find LCM"
   ]
  },
  {
   "cell_type": "code",
   "execution_count": 10,
   "metadata": {},
   "outputs": [
    {
     "name": "stdout",
     "output_type": "stream",
     "text": [
      "The LCM is 30\n"
     ]
    }
   ],
   "source": [
    "def cal_lcm(a,b):\n",
    "    if a == 0 :\n",
    "        return b\n",
    "    elif b == 0:\n",
    "        return b\n",
    "    else:\n",
    "        c = max(a,b)\n",
    "        while True:\n",
    "            if c % a == 0 and c % b == 0 :\n",
    "                return c\n",
    "                break\n",
    "            c += 1\n",
    "\n",
    "\n",
    "lcm = cal_lcm(10, 15)\n",
    "print(\"The LCM is\", lcm)\n"
   ]
  },
  {
   "cell_type": "markdown",
   "metadata": {},
   "source": [
    "# Write a Python Program to Find HCF"
   ]
  },
  {
   "cell_type": "code",
   "execution_count": 7,
   "metadata": {},
   "outputs": [
    {
     "name": "stdout",
     "output_type": "stream",
     "text": [
      "The HCF is 5\n"
     ]
    }
   ],
   "source": [
    "def cal_hcf(a,b):\n",
    "    while(b):\n",
    "        a,b = b, a % b\n",
    "    return a\n",
    "\n",
    "hcf = cal_hcf(10, 15)\n",
    "print(\"The HCF is\", hcf)"
   ]
  },
  {
   "cell_type": "markdown",
   "metadata": {},
   "source": [
    "# Write a Python Program to Convert Decimal to Binary, Octal and Hexadecimal"
   ]
  },
  {
   "cell_type": "code",
   "execution_count": 16,
   "metadata": {},
   "outputs": [
    {
     "name": "stdout",
     "output_type": "stream",
     "text": [
      "Enter a number :18\n",
      "Binary conversion of 18 is : 10010\n",
      "Octal conversion of 18 is : 22\n",
      "Hexadecimal conversion of 18 is : 12\n"
     ]
    }
   ],
   "source": [
    "def conversion(num):\n",
    "    binary = bin(num).replace('0b','')\n",
    "    octa = oct(num).replace('0o','')\n",
    "    hexa = hex(num).replace('0x','')\n",
    "    return binary,octa,hexa\n",
    "\n",
    "num = int(input('Enter a number :'))\n",
    "tup1 = conversion(num)\n",
    "print(f'Binary conversion of {num} is : {tup1[0]}')\n",
    "print(f'Octal conversion of {num} is : {tup1[1]}')\n",
    "print(f'Hexadecimal conversion of {num} is : {tup1[2]}')"
   ]
  },
  {
   "cell_type": "markdown",
   "metadata": {},
   "source": [
    "# Write a Python Program To Find ASCII value of a character"
   ]
  },
  {
   "cell_type": "code",
   "execution_count": 18,
   "metadata": {},
   "outputs": [
    {
     "name": "stdout",
     "output_type": "stream",
     "text": [
      "Enter a charecter :a\n",
      "ASCII value of a is : 97\n"
     ]
    }
   ],
   "source": [
    "def ascii_val(char):\n",
    "    return ord(char)\n",
    "\n",
    "char = input('Enter a charecter :')\n",
    "print(f'ASCII value of {char} is : {ascii_val(char)}')"
   ]
  },
  {
   "cell_type": "markdown",
   "metadata": {},
   "source": [
    "# Write a Python Program to Make a Simple Calculator with 4 basic mathematical operations"
   ]
  },
  {
   "cell_type": "code",
   "execution_count": 20,
   "metadata": {},
   "outputs": [
    {
     "data": {
      "text/plain": [
       "7"
      ]
     },
     "execution_count": 20,
     "metadata": {},
     "output_type": "execute_result"
    }
   ],
   "source": [
    "def add(x, y):\n",
    "    return x + y\n",
    "\n",
    "def subtract(x, y):\n",
    "    return x - y\n",
    "\n",
    "def multiply(x, y):\n",
    "    return x * y\n",
    "\n",
    "def divide(x, y):\n",
    "    return x / y\n",
    "\n",
    "add(3,4)"
   ]
  }
 ],
 "metadata": {
  "kernelspec": {
   "display_name": "Python 3",
   "language": "python",
   "name": "python3"
  },
  "language_info": {
   "codemirror_mode": {
    "name": "ipython",
    "version": 3
   },
   "file_extension": ".py",
   "mimetype": "text/x-python",
   "name": "python",
   "nbconvert_exporter": "python",
   "pygments_lexer": "ipython3",
   "version": "3.8.5"
  }
 },
 "nbformat": 4,
 "nbformat_minor": 4
}
