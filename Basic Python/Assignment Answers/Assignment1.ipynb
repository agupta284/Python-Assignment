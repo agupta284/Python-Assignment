{
 "cells": [
  {
   "cell_type": "markdown",
   "metadata": {},
   "source": [
    "# A.1\n",
    "\n",
    "Values - 'hello' , -87.8 , 6\n",
    "Expression - * , - , / , + "
   ]
  },
  {
   "cell_type": "markdown",
   "metadata": {},
   "source": [
    "# A.2\n",
    "\n",
    "String is a data type whereas variable is reference of a value which can be of any data type."
   ]
  },
  {
   "cell_type": "markdown",
   "metadata": {},
   "source": [
    "# A.3\n",
    "\n",
    "1. String ('asd' , 'hi! my name is Ayush')\n",
    "2. Integer (1,654,77)\n",
    "3. Boolean (True,False)"
   ]
  },
  {
   "cell_type": "markdown",
   "metadata": {},
   "source": [
    "# A.4\n",
    "\n",
    "An expression can be values, variables, operators or calls to functions which evaluated by the interpreter.\n",
    "Example - len(\"Name\") , 3+4"
   ]
  },
  {
   "cell_type": "markdown",
   "metadata": {},
   "source": [
    "# A.5\n",
    "\n",
    "An expression can be values, variables, operators or calls to functions which evaluated by the interpreter.\n",
    "Example - len(\"Name\") , 3+4\n",
    "\n",
    "A statement is an instruction that the Python interpreter can execute.There are different types of statements in the Python programming language like Assignment statement, Conditional statement, Looping statements etc"
   ]
  },
  {
   "cell_type": "markdown",
   "metadata": {},
   "source": [
    "# A.6\n",
    "\n",
    "bacon will hold the value 22 as while performing the addition operation we are not re-assinging the bacon value."
   ]
  },
  {
   "cell_type": "markdown",
   "metadata": {},
   "source": [
    "# A.7 \n",
    "\n",
    "Both of the operation will give the same value i.e. 'spamspamspam'"
   ]
  },
  {
   "cell_type": "markdown",
   "metadata": {},
   "source": [
    "# A.8\n",
    "\n",
    "eggs is a valid variable name because it's neither a built-in function nor it have any value untill we assign whereas 100 is an integer value and it holds a value with it. If we try to assign any value in 100 python will interprate assignment oprerator(=) as comparison operator."
   ]
  },
  {
   "cell_type": "markdown",
   "metadata": {},
   "source": [
    "# A.9\n",
    "\n",
    "For integer - int()\n",
    "For floating-point number - float()\n",
    "For string - str()"
   ]
  },
  {
   "cell_type": "markdown",
   "metadata": {},
   "source": [
    "# A.10\n",
    "\n",
    "'I have eaten ' + 99 + ' burritos.' -- Here we are trying to add string value to an integer value. We can fix it by converting integer value 99 to string by writing '99' or str(99)."
   ]
  }
 ],
 "metadata": {
  "kernelspec": {
   "display_name": "Python 3",
   "language": "python",
   "name": "python3"
  },
  "language_info": {
   "codemirror_mode": {
    "name": "ipython",
    "version": 3
   },
   "file_extension": ".py",
   "mimetype": "text/x-python",
   "name": "python",
   "nbconvert_exporter": "python",
   "pygments_lexer": "ipython3",
   "version": "3.8.5"
  }
 },
 "nbformat": 4,
 "nbformat_minor": 4
}
